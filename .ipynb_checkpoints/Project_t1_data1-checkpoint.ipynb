{
 "cells": [
  {
   "cell_type": "markdown",
   "id": "7396f519",
   "metadata": {},
   "source": [
    "# TASK 1"
   ]
  },
  {
   "cell_type": "code",
   "execution_count": 49,
   "id": "aff7638a",
   "metadata": {},
   "outputs": [],
   "source": [
    "import pandas as pd"
   ]
  },
  {
   "cell_type": "code",
   "execution_count": 50,
   "id": "c6c9f2f6",
   "metadata": {},
   "outputs": [],
   "source": [
    "df_data1 = pd.read_csv('data1.csv')\n",
    "df_data1.drop(columns=df_data1.columns[0], axis=1, inplace=True)\n",
    "df_data1.loc[df_data1['Class']==1,'Class']=0\n",
    "df_data1.loc[df_data1['Class']==2,'Class']=1\n",
    "df_data1.loc[df_data1['Class']==3,'Class']=2\n",
    "df_data1.loc[df_data1['Class']==4,'Class']=3\n",
    "df_data1.loc[df_data1['Class']==5,'Class']=4\n",
    "df_data1.loc[df_data1['Class']==6,'Class']=5\n",
    "df_data1.loc[df_data1['Class']==7,'Class']=6"
   ]
  },
  {
   "cell_type": "code",
   "execution_count": 51,
   "id": "c64f7d02",
   "metadata": {},
   "outputs": [
    {
     "data": {
      "text/html": [
       "<div>\n",
       "<style scoped>\n",
       "    .dataframe tbody tr th:only-of-type {\n",
       "        vertical-align: middle;\n",
       "    }\n",
       "\n",
       "    .dataframe tbody tr th {\n",
       "        vertical-align: top;\n",
       "    }\n",
       "\n",
       "    .dataframe thead th {\n",
       "        text-align: right;\n",
       "    }\n",
       "</style>\n",
       "<table border=\"1\" class=\"dataframe\">\n",
       "  <thead>\n",
       "    <tr style=\"text-align: right;\">\n",
       "      <th></th>\n",
       "      <th>X1</th>\n",
       "      <th>X2</th>\n",
       "      <th>X3</th>\n",
       "      <th>Class</th>\n",
       "    </tr>\n",
       "  </thead>\n",
       "  <tbody>\n",
       "    <tr>\n",
       "      <th>0</th>\n",
       "      <td>-0.063274</td>\n",
       "      <td>0.027734</td>\n",
       "      <td>0.022683</td>\n",
       "      <td>0</td>\n",
       "    </tr>\n",
       "    <tr>\n",
       "      <th>1</th>\n",
       "      <td>-0.000731</td>\n",
       "      <td>0.048211</td>\n",
       "      <td>0.069198</td>\n",
       "      <td>0</td>\n",
       "    </tr>\n",
       "    <tr>\n",
       "      <th>2</th>\n",
       "      <td>-0.060767</td>\n",
       "      <td>-0.009080</td>\n",
       "      <td>0.053085</td>\n",
       "      <td>0</td>\n",
       "    </tr>\n",
       "    <tr>\n",
       "      <th>3</th>\n",
       "      <td>0.013252</td>\n",
       "      <td>-0.011876</td>\n",
       "      <td>0.055324</td>\n",
       "      <td>0</td>\n",
       "    </tr>\n",
       "    <tr>\n",
       "      <th>4</th>\n",
       "      <td>-0.054508</td>\n",
       "      <td>-0.003813</td>\n",
       "      <td>0.001738</td>\n",
       "      <td>0</td>\n",
       "    </tr>\n",
       "    <tr>\n",
       "      <th>...</th>\n",
       "      <td>...</td>\n",
       "      <td>...</td>\n",
       "      <td>...</td>\n",
       "      <td>...</td>\n",
       "    </tr>\n",
       "    <tr>\n",
       "      <th>207</th>\n",
       "      <td>0.175738</td>\n",
       "      <td>-0.053478</td>\n",
       "      <td>-2.733752</td>\n",
       "      <td>6</td>\n",
       "    </tr>\n",
       "    <tr>\n",
       "      <th>208</th>\n",
       "      <td>0.396046</td>\n",
       "      <td>-0.858377</td>\n",
       "      <td>-3.126866</td>\n",
       "      <td>6</td>\n",
       "    </tr>\n",
       "    <tr>\n",
       "      <th>209</th>\n",
       "      <td>-0.406362</td>\n",
       "      <td>-0.334541</td>\n",
       "      <td>-2.885598</td>\n",
       "      <td>6</td>\n",
       "    </tr>\n",
       "    <tr>\n",
       "      <th>210</th>\n",
       "      <td>-0.299275</td>\n",
       "      <td>0.071281</td>\n",
       "      <td>-3.642585</td>\n",
       "      <td>6</td>\n",
       "    </tr>\n",
       "    <tr>\n",
       "      <th>211</th>\n",
       "      <td>-0.506192</td>\n",
       "      <td>0.433538</td>\n",
       "      <td>-2.608597</td>\n",
       "      <td>6</td>\n",
       "    </tr>\n",
       "  </tbody>\n",
       "</table>\n",
       "<p>212 rows × 4 columns</p>\n",
       "</div>"
      ],
      "text/plain": [
       "           X1        X2        X3  Class\n",
       "0   -0.063274  0.027734  0.022683      0\n",
       "1   -0.000731  0.048211  0.069198      0\n",
       "2   -0.060767 -0.009080  0.053085      0\n",
       "3    0.013252 -0.011876  0.055324      0\n",
       "4   -0.054508 -0.003813  0.001738      0\n",
       "..        ...       ...       ...    ...\n",
       "207  0.175738 -0.053478 -2.733752      6\n",
       "208  0.396046 -0.858377 -3.126866      6\n",
       "209 -0.406362 -0.334541 -2.885598      6\n",
       "210 -0.299275  0.071281 -3.642585      6\n",
       "211 -0.506192  0.433538 -2.608597      6\n",
       "\n",
       "[212 rows x 4 columns]"
      ]
     },
     "execution_count": 51,
     "metadata": {},
     "output_type": "execute_result"
    }
   ],
   "source": [
    "df_data1"
   ]
  },
  {
   "cell_type": "code",
   "execution_count": 52,
   "id": "47b7421c",
   "metadata": {},
   "outputs": [
    {
     "name": "stderr",
     "output_type": "stream",
     "text": [
      "C:\\Users\\aryan\\anaconda3\\lib\\site-packages\\sklearn\\cluster\\_kmeans.py:1036: UserWarning:\n",
      "\n",
      "KMeans is known to have a memory leak on Windows with MKL, when there are less chunks than available threads. You can avoid it by setting the environment variable OMP_NUM_THREADS=1.\n",
      "\n"
     ]
    },
    {
     "name": "stdout",
     "output_type": "stream",
     "text": [
      "SSE model_data1 Data: 2579.29812387843\n",
      "SSE model_data1 Data: 1785.7767864279167\n",
      "SSE model_data1 Data: 1255.8227209427248\n",
      "SSE model_data1 Data: 893.0380873829331\n",
      "SSE model_data1 Data: 550.7240557421219\n",
      "SSE model_data1 Data: 261.67418428008625\n",
      "SSE model_data1 Data: 106.14764659310865\n",
      "SSE model_data1 Data: 98.76693842019226\n",
      "SSE model_data1 Data: 92.15538206054741\n"
     ]
    },
    {
     "name": "stderr",
     "output_type": "stream",
     "text": [
      "C:\\Users\\aryan\\anaconda3\\lib\\site-packages\\seaborn\\_decorators.py:36: FutureWarning:\n",
      "\n",
      "Pass the following variables as keyword args: x, y. From version 0.12, the only valid positional argument will be `data`, and passing other arguments without an explicit keyword will result in an error or misinterpretation.\n",
      "\n"
     ]
    },
    {
     "data": {
      "text/plain": [
       "<AxesSubplot:>"
      ]
     },
     "execution_count": 52,
     "metadata": {},
     "output_type": "execute_result"
    },
    {
     "data": {
      "image/png": "[encoded data removed]",
      "text/plain": [
       "<Figure size 432x288 with 1 Axes>"
      ]
     },
     "metadata": {
      "needs_background": "light"
     },
     "output_type": "display_data"
    }
   ],
   "source": [
    "# finding the value of k\n",
    "ans = []\n",
    "for i in range(1,10):\n",
    "    model_data1 = KMeans(n_clusters=i)\n",
    "    model_data1.fit(df_data1.iloc[:,0:4])\n",
    "    print('SSE model_data1 Data: '+ str(model_data1.inertia_))\n",
    "    t = model_data1.inertia_\n",
    "    ans.append(t)\n",
    "import seaborn as sns\n",
    "sns.lineplot(ans,range(1,10))"
   ]
  },
  {
   "cell_type": "code",
   "execution_count": 141,
   "id": "f9d5d08b",
   "metadata": {},
   "outputs": [
    {
     "name": "stdout",
     "output_type": "stream",
     "text": [
      "SSE model_data1 Data: 106.14764659310865\n"
     ]
    }
   ],
   "source": [
    "# from here we can conlude that k value should be 4\n",
    "model_data1 = KMeans(n_clusters=7)\n",
    "model_data1.fit(df_data1.iloc[:,0:3])\n",
    "print('SSE model_data1 Data: '+ str(model_data1.inertia_))"
   ]
  },
  {
   "cell_type": "code",
   "execution_count": 142,
   "id": "1692cb3c",
   "metadata": {},
   "outputs": [
    {
     "name": "stdout",
     "output_type": "stream",
     "text": [
      "[0 0 0 0 0 0 0 0 0 0 0 0 0 0 0 0 0 0 0 0 0 0 0 0 0 0 0 0 0 0 0 0 1 1 1 1 1\n",
      " 1 1 1 1 1 1 1 1 1 1 1 1 1 1 1 1 1 1 1 1 1 1 1 1 1 3 3 3 3 3 3 3 3 3 3 3 3\n",
      " 3 3 3 3 3 3 3 3 3 3 3 3 3 3 3 3 3 3 2 2 2 2 2 2 2 2 2 2 2 2 2 2 2 2 2 2 2\n",
      " 2 2 2 2 2 2 2 2 2 2 2 5 5 5 5 5 5 5 5 5 5 5 5 5 5 5 5 5 5 5 5 5 5 5 5 5 5\n",
      " 5 5 5 5 6 6 6 6 6 6 6 6 6 6 6 6 6 6 6 6 6 6 6 6 6 6 6 6 6 6 6 6 6 6 4 4 4\n",
      " 4 4 4 4 4 4 4 4 4 4 4 4 4 4 4 4 4 4 4 4 4 4 4 4 4 4 4]\n"
     ]
    }
   ],
   "source": [
    "print(model_data1.labels_)"
   ]
  },
  {
   "cell_type": "code",
   "execution_count": 143,
   "id": "acd0c64c",
   "metadata": {},
   "outputs": [
    {
     "name": "stdout",
     "output_type": "stream",
     "text": [
      "0.29245283018867924\n"
     ]
    }
   ],
   "source": [
    "from sklearn.metrics import accuracy_score\n",
    "print(accuracy_score(df_data1['Class'],model_data1.labels_))"
   ]
  },
  {
   "cell_type": "code",
   "execution_count": 106,
   "id": "9cc053cd",
   "metadata": {},
   "outputs": [
    {
     "name": "stdout",
     "output_type": "stream",
     "text": [
      "0.2830188679245283\n"
     ]
    }
   ],
   "source": [
    "from sklearn.metrics import f1_score\n",
    "print(f1_score(df_data1.iloc[:,3], model_data1.labels_,average='micro'))"
   ]
  },
  {
   "cell_type": "code",
   "execution_count": 69,
   "id": "96b72fb4",
   "metadata": {},
   "outputs": [
    {
     "data": {
      "text/plain": [
       "1.0"
      ]
     },
     "execution_count": 69,
     "metadata": {},
     "output_type": "execute_result"
    }
   ],
   "source": [
    "metrics.adjusted_rand_score(df_data1.iloc[:,3], model_data1.labels_)"
   ]
  },
  {
   "cell_type": "code",
   "execution_count": 61,
   "id": "ab29794b",
   "metadata": {},
   "outputs": [
    {
     "data": {
      "application/vnd.plotly.v1+json": {
       "config": {
        "plotlyServerURL": "https://plot.ly"
       },
       "data": [
        {
         "hovertemplate": "X1=%{x}<br>X2=%{y}<br>X3=%{z}<br>Class=%{marker.color}<extra></extra>",
         "legendgroup": "",
         "marker": {
          "color": [
           0,
           0,
           0,
           0,
           0,
           0,
           0,
           0,
           0,
           0,
           0,
           0,
           0,
           0,
           0,
           0,
           0,
           0,
           0,
           0,
           0,
           0,
           0,
           0,
           0,
           0,
           0,
           0,
           0,
           0,
           0,
           0,
           1,
           1,
           1,
           1,
           1,
           1,
           1,
           1,
           1,
           1,
           1,
           1,
           1,
           1,
           1,
           1,
           1,
           1,
           1,
           1,
           1,
           1,
           1,
           1,
           1,
           1,
           1,
           1,
           1,
           1,
           2,
           2,
           2,
           2,
           2,
           2,
           2,
           2,
           2,
           2,
           2,
           2,
           2,
           2,
           2,
           2,
           2,
           2,
           2,
           2,
           2,
           2,
           2,
           2,
           2,
           2,
           2,
           2,
           2,
           2,
           3,
           3,
           3,
           3,
           3,
           3,
           3,
           3,
           3,
           3,
           3,
           3,
           3,
           3,
           3,
           3,
           3,
           3,
           3,
           3,
           3,
           3,
           3,
           3,
           3,
           3,
           3,
           3,
           3,
           3,
           4,
           4,
           4,
           4,
           4,
           4,
           4,
           4,
           4,
           4,
           4,
           4,
           4,
           4,
           4,
           4,
           4,
           4,
           4,
           4,
           4,
           4,
           4,
           4,
           4,
           4,
           4,
           4,
           4,
           4,
           5,
           5,
           5,
           5,
           5,
           5,
           5,
           5,
           5,
           5,
           5,
           5,
           5,
           5,
           5,
           5,
           5,
           5,
           5,
           5,
           5,
           5,
           5,
           5,
           5,
           5,
           5,
           5,
           5,
           5,
           6,
           6,
           6,
           6,
           6,
           6,
           6,
           6,
           6,
           6,
           6,
           6,
           6,
           6,
           6,
           6,
           6,
           6,
           6,
           6,
           6,
           6,
           6,
           6,
           6,
           6,
           6,
           6,
           6,
           6
          ],
          "coloraxis": "coloraxis",
          "symbol": "circle"
         },
         "mode": "markers",
         "name": "",
         "scene": "scene",
         "showlegend": false,
         "type": "scatter3d",
         "x": [
          -0.063274,
          -0.000731,
          -0.060767,
          0.013252,
          -0.054508,
          0.02418,
          -0.029308,
          -0.016453,
          -0.042361,
          -0.01631,
          0.03536,
          -0.000287,
          -0.065931,
          0.009049,
          -0.005335,
          -0.004175,
          0.091024,
          -0.077068,
          0.05515,
          -0.033779,
          0.044954,
          0.008785,
          -0.061655,
          -0.051274,
          0.04421,
          -0.003343,
          -0.064487,
          0.042168,
          -0.061495,
          0.071795,
          0.058733,
          0.078178,
          2.418463,
          2.805184,
          2.983722,
          3.055291,
          3.015527,
          2.449981,
          3.199806,
          3.266405,
          3.74771,
          3.411849,
          3.733854,
          3.59214,
          3.59351,
          2.387269,
          3.423791,
          2.425059,
          2.407337,
          2.923991,
          3.188203,
          2.377023,
          2.610067,
          2.918826,
          2.932853,
          3.47194,
          3.266172,
          2.916963,
          3.020822,
          2.844004,
          2.826876,
          2.771511,
          -2.69712,
          -2.57583,
          -3.308062,
          -3.970394,
          -3.332026,
          -2.679173,
          -2.186732,
          -3.013009,
          -3.464085,
          -2.632916,
          -3.315788,
          -2.833584,
          -2.722148,
          -2.608905,
          -2.853364,
          -2.809655,
          -3.538035,
          -2.457811,
          -2.762541,
          -2.929594,
          -3.054864,
          -3.632051,
          -3.595796,
          -2.285053,
          -2.664311,
          -3.163578,
          -2.599157,
          -3.381994,
          -3.961031,
          -2.827045,
          0.498135,
          0.218436,
          0.135451,
          0.420118,
          0.659865,
          0.619487,
          -0.294208,
          -0.362217,
          -0.561919,
          0.186843,
          0.450086,
          -0.047549,
          0.432449,
          0.444504,
          -0.116409,
          -0.601582,
          0.268449,
          -0.007967,
          -0.811876,
          -0.003684,
          0.27221,
          -0.003839,
          0.175357,
          -0.350178,
          0.016665,
          0.394178,
          0.715985,
          0.28994,
          0.854454,
          0.308424,
          -0.154151,
          0.042376,
          0.76406,
          0.273431,
          0.109072,
          -0.609027,
          0.563714,
          0.053112,
          0.374246,
          -0.25541,
          -0.05833,
          0.436804,
          -0.185927,
          -0.15729,
          -0.253287,
          0.856338,
          -0.448767,
          -0.763126,
          0.50729,
          -0.262387,
          0.638189,
          -0.715655,
          -0.148243,
          -0.436461,
          -0.015747,
          -0.380327,
          -0.078679,
          0.725907,
          -0.118512,
          0.378156,
          -0.646687,
          0.862612,
          0.58395,
          -0.106313,
          -0.447773,
          0.278688,
          -0.499959,
          0.628733,
          -0.550777,
          0.280057,
          -0.68149,
          -0.150402,
          -0.175775,
          0.40849,
          -0.687687,
          0.187892,
          0.40274,
          -0.333692,
          -0.073884,
          0.074276,
          -0.234023,
          0.33853,
          0.777033,
          0.093523,
          0.215945,
          -0.031152,
          0.26075,
          -0.542543,
          -0.306005,
          -0.114414,
          -0.749873,
          -0.108157,
          -0.410898,
          0.662499,
          -0.057589,
          0.64518,
          0.257191,
          -0.169119,
          0.228327,
          -0.512238,
          -0.510091,
          -0.001328,
          -0.086874,
          -0.558094,
          0.640575,
          0.033866,
          -0.530334,
          0.488731,
          -0.320178,
          0.143306,
          -0.36578,
          0.660425,
          0.647696,
          -0.110876,
          -0.694187,
          0.175738,
          0.396046,
          -0.406362,
          -0.299275,
          -0.506192
         ],
         "y": [
          0.027734,
          0.048211,
          -0.00908,
          -0.011876,
          -0.003813,
          0.068275,
          0.059849,
          0.013881,
          -0.059942,
          -0.036612,
          -0.04495,
          -0.049496,
          -0.005381,
          0.027976,
          0.062592,
          0.064646,
          -0.031446,
          -0.035324,
          -0.007045,
          0.049066,
          -0.033716,
          0.016895,
          -0.023085,
          0.054634,
          -0.062217,
          0.069586,
          0.012217,
          -0.009972,
          0.059835,
          -0.01526,
          -0.029135,
          -0.014786,
          0.490127,
          0.769746,
          -0.983118,
          -0.477796,
          -0.666039,
          0.175666,
          0.201051,
          0.012518,
          -0.41696,
          0.516665,
          0.184758,
          -0.371411,
          0.125884,
          0.784515,
          -0.039296,
          -0.206822,
          -0.015134,
          -0.262388,
          -0.476377,
          0.498033,
          0.787375,
          -0.8296,
          0.719728,
          0.322667,
          0.207763,
          -0.636281,
          -0.491739,
          -0.078753,
          -0.241459,
          0.362751,
          0.342837,
          -0.752408,
          0.919403,
          -0.017968,
          -0.22133,
          0.521163,
          -0.536953,
          -0.082401,
          0.458797,
          0.683901,
          0.017903,
          -0.684569,
          -0.502344,
          0.443179,
          -0.788934,
          -0.092462,
          0.777137,
          -0.601538,
          -0.540911,
          -0.162338,
          -0.220749,
          -0.045369,
          -0.25031,
          0.111547,
          -0.035719,
          0.286805,
          0.438496,
          0.308228,
          -0.111044,
          -0.074139,
          2.895371,
          3.067538,
          2.12925,
          3.055572,
          3.446317,
          3.285343,
          3.296888,
          2.657112,
          3.334167,
          3.706688,
          2.844335,
          3.634562,
          3.774495,
          3.491508,
          2.618886,
          3.548497,
          3.662073,
          2.91813,
          2.976918,
          2.460306,
          2.287469,
          3.107724,
          3.715249,
          2.515348,
          2.986915,
          2.772903,
          3.467443,
          2.60696,
          2.895231,
          3.293211,
          -2.382802,
          -3.013402,
          -2.974825,
          -3.549045,
          -2.872739,
          -2.316553,
          -2.668933,
          -3.69483,
          -3.881493,
          -2.573785,
          -3.539877,
          -2.849058,
          -2.83419,
          -3.035242,
          -2.355499,
          -2.928918,
          -2.892567,
          -3.121529,
          -3.69845,
          -2.7936,
          -2.885896,
          -3.174318,
          -2.348742,
          -3.189614,
          -3.601469,
          -2.120669,
          -2.969195,
          -2.642703,
          -2.391662,
          -3.742474,
          -0.257803,
          -0.257097,
          0.25262,
          0.539686,
          -0.165269,
          -0.67851,
          -0.102398,
          -0.136098,
          0.820583,
          -0.332023,
          -0.388565,
          0.774676,
          0.816718,
          -0.752991,
          0.5331,
          0.099277,
          0.309218,
          0.726125,
          0.856673,
          -0.44986,
          0.508787,
          -0.722352,
          0.217745,
          0.595698,
          -0.323846,
          0.385966,
          0.391448,
          0.386463,
          -0.915958,
          0.026251,
          0.616942,
          -0.083104,
          0.467216,
          -0.378195,
          0.548771,
          -0.276585,
          0.114881,
          0.400328,
          -0.513736,
          0.372109,
          -0.617806,
          0.275274,
          0.138084,
          -0.138533,
          -0.52869,
          0.301424,
          0.571733,
          0.68226,
          -0.530404,
          0.578726,
          -0.491918,
          -0.259537,
          0.44422,
          0.163359,
          0.258777,
          -0.053478,
          -0.858377,
          -0.334541,
          0.071281,
          0.433538
         ],
         "z": [
          0.022683,
          0.069198,
          0.053085,
          0.055324,
          0.001738,
          0.033462,
          -0.06326,
          -0.013236,
          -0.026487,
          0.047928,
          0.041474,
          -0.06343,
          -0.064899,
          0.01198,
          -0.057507,
          0.040856,
          -0.014774,
          -0.03906,
          0.078495,
          0.026958,
          0.011894,
          -0.09079,
          0.007996,
          0.032257,
          -0.018733,
          0.069452,
          0.040873,
          0.047962,
          0.025843,
          -0.023346,
          -0.011721,
          -0.00032,
          0.033581,
          -0.557435,
          -0.165216,
          0.370524,
          0.126169,
          -0.531892,
          0.58676,
          -0.761892,
          0.148884,
          -0.702665,
          0.482416,
          -0.673235,
          0.277346,
          -0.011033,
          0.066654,
          -0.263965,
          0.097093,
          -0.672982,
          0.051427,
          -0.382225,
          0.046041,
          -0.198249,
          -0.347704,
          0.25302,
          0.078446,
          -0.459655,
          0.382338,
          -0.660588,
          -0.143806,
          -0.669945,
          0.296855,
          -0.225828,
          -0.091698,
          0.097194,
          -0.410873,
          0.033068,
          -0.08933,
          -0.750346,
          -0.745681,
          -0.153258,
          0.703027,
          0.298511,
          0.245003,
          0.447541,
          -0.276868,
          0.719525,
          0.091226,
          0.548791,
          0.251193,
          0.427959,
          0.858853,
          0.497112,
          -0.26069,
          0.652847,
          0.357768,
          -0.843201,
          0.094013,
          -0.689706,
          0.022821,
          0.54136,
          0.786843,
          0.030236,
          0.320246,
          0.230617,
          -0.101455,
          0.278274,
          -0.174357,
          0.01996,
          0.068536,
          -0.259004,
          0.073905,
          0.613045,
          0.096256,
          -0.745843,
          0.576378,
          0.101766,
          -0.103739,
          0.390422,
          -0.40471,
          0.323449,
          -0.243128,
          -0.876719,
          0.344842,
          0.695052,
          -0.265349,
          0.583035,
          -0.171137,
          0.767379,
          -0.335877,
          -0.383773,
          -0.552876,
          0.26318,
          0.304909,
          0.602433,
          -0.972276,
          0.05604,
          0.272222,
          -0.446254,
          -0.178669,
          -0.369218,
          0.156878,
          -0.705822,
          -0.871306,
          -0.447355,
          0.53801,
          -0.105247,
          0.036684,
          0.012815,
          -0.126832,
          0.893868,
          -0.535134,
          -0.415442,
          -0.198939,
          -0.874082,
          0.678772,
          -0.201018,
          -0.085163,
          -0.392598,
          -0.116857,
          0.42604,
          2.879026,
          3.339622,
          3.164447,
          3.36243,
          2.395462,
          3.019065,
          2.918835,
          2.961669,
          2.888145,
          2.280202,
          2.852309,
          3.236697,
          2.810907,
          2.708342,
          2.864252,
          3.3971,
          2.184721,
          2.755337,
          3.449364,
          2.289555,
          2.627695,
          2.402052,
          2.671151,
          3.532532,
          2.195408,
          3.106696,
          2.176698,
          2.917456,
          2.884296,
          3.899389,
          -2.862605,
          -3.909294,
          -3.64399,
          -2.900845,
          -3.072026,
          -2.877792,
          -2.929682,
          -2.853299,
          -3.600658,
          -3.357134,
          -3.543896,
          -2.367165,
          -3.152736,
          -2.731829,
          -2.882579,
          -2.949164,
          -3.122279,
          -3.026392,
          -2.430535,
          -3.657507,
          -2.483666,
          -3.671958,
          -2.807808,
          -3.038903,
          -2.411717,
          -2.733752,
          -3.126866,
          -2.885598,
          -3.642585,
          -2.608597
         ]
        }
       ],
       "layout": {
        "coloraxis": {
         "colorbar": {
          "title": {
           "text": "Class"
          }
         },
         "colorscale": [
          [
           0,
           "#0d0887"
          ],
          [
           0.1111111111111111,
           "#46039f"
          ],
          [
           0.2222222222222222,
           "#7201a8"
          ],
          [
           0.3333333333333333,
           "#9c179e"
          ],
          [
           0.4444444444444444,
           "#bd3786"
          ],
          [
           0.5555555555555556,
           "#d8576b"
          ],
          [
           0.6666666666666666,
           "#ed7953"
          ],
          [
           0.7777777777777778,
           "#fb9f3a"
          ],
          [
           0.8888888888888888,
           "#fdca26"
          ],
          [
           1,
           "#f0f921"
          ]
         ]
        },
        "legend": {
         "tracegroupgap": 0
        },
        "margin": {
         "t": 60
        },
        "scene": {
         "domain": {
          "x": [
           0,
           1
          ],
          "y": [
           0,
           1
          ]
         },
         "xaxis": {
          "title": {
           "text": "X1"
          }
         },
         "yaxis": {
          "title": {
           "text": "X2"
          }
         },
         "zaxis": {
          "title": {
           "text": "X3"
          }
         }
        },
        "template": {
         "data": {
          "bar": [
           {
            "error_x": {
             "color": "#2a3f5f"
            },
            "error_y": {
             "color": "#2a3f5f"
            },
            "marker": {
             "line": {
              "color": "#E5ECF6",
              "width": 0.5
             },
             "pattern": {
              "fillmode": "overlay",
              "size": 10,
              "solidity": 0.2
             }
            },
            "type": "bar"
           }
          ],
          "barpolar": [
           {
            "marker": {
             "line": {
              "color": "#E5ECF6",
              "width": 0.5
             },
             "pattern": {
              "fillmode": "overlay",
              "size": 10,
              "solidity": 0.2
             }
            },
            "type": "barpolar"
           }
          ],
          "carpet": [
           {
            "aaxis": {
             "endlinecolor": "#2a3f5f",
             "gridcolor": "white",
             "linecolor": "white",
             "minorgridcolor": "white",
             "startlinecolor": "#2a3f5f"
            },
            "baxis": {
             "endlinecolor": "#2a3f5f",
             "gridcolor": "white",
             "linecolor": "white",
             "minorgridcolor": "white",
             "startlinecolor": "#2a3f5f"
            },
            "type": "carpet"
           }
          ],
          "choropleth": [
           {
            "colorbar": {
             "outlinewidth": 0,
             "ticks": ""
            },
            "type": "choropleth"
           }
          ],
          "contour": [
           {
            "colorbar": {
             "outlinewidth": 0,
             "ticks": ""
            },
            "colorscale": [
             [
              0,
              "#0d0887"
             ],
             [
              0.1111111111111111,
              "#46039f"
             ],
             [
              0.2222222222222222,
              "#7201a8"
             ],
             [
              0.3333333333333333,
              "#9c179e"
             ],
             [
              0.4444444444444444,
              "#bd3786"
             ],
             [
              0.5555555555555556,
              "#d8576b"
             ],
             [
              0.6666666666666666,
              "#ed7953"
             ],
             [
              0.7777777777777778,
              "#fb9f3a"
             ],
             [
              0.8888888888888888,
              "#fdca26"
             ],
             [
              1,
              "#f0f921"
             ]
            ],
            "type": "contour"
           }
          ],
          "contourcarpet": [
           {
            "colorbar": {
             "outlinewidth": 0,
             "ticks": ""
            },
            "type": "contourcarpet"
           }
          ],
          "heatmap": [
           {
            "colorbar": {
             "outlinewidth": 0,
             "ticks": ""
            },
            "colorscale": [
             [
              0,
              "#0d0887"
             ],
             [
              0.1111111111111111,
              "#46039f"
             ],
             [
              0.2222222222222222,
              "#7201a8"
             ],
             [
              0.3333333333333333,
              "#9c179e"
             ],
             [
              0.4444444444444444,
              "#bd3786"
             ],
             [
              0.5555555555555556,
              "#d8576b"
             ],
             [
              0.6666666666666666,
              "#ed7953"
             ],
             [
              0.7777777777777778,
              "#fb9f3a"
             ],
             [
              0.8888888888888888,
              "#fdca26"
             ],
             [
              1,
              "#f0f921"
             ]
            ],
            "type": "heatmap"
           }
          ],
          "heatmapgl": [
           {
            "colorbar": {
             "outlinewidth": 0,
             "ticks": ""
            },
            "colorscale": [
             [
              0,
              "#0d0887"
             ],
             [
              0.1111111111111111,
              "#46039f"
             ],
             [
              0.2222222222222222,
              "#7201a8"
             ],
             [
              0.3333333333333333,
              "#9c179e"
             ],
             [
              0.4444444444444444,
              "#bd3786"
             ],
             [
              0.5555555555555556,
              "#d8576b"
             ],
             [
              0.6666666666666666,
              "#ed7953"
             ],
             [
              0.7777777777777778,
              "#fb9f3a"
             ],
             [
              0.8888888888888888,
              "#fdca26"
             ],
             [
              1,
              "#f0f921"
             ]
            ],
            "type": "heatmapgl"
           }
          ],
          "histogram": [
           {
            "marker": {
             "pattern": {
              "fillmode": "overlay",
              "size": 10,
              "solidity": 0.2
             }
            },
            "type": "histogram"
           }
          ],
          "histogram2d": [
           {
            "colorbar": {
             "outlinewidth": 0,
             "ticks": ""
            },
            "colorscale": [
             [
              0,
              "#0d0887"
             ],
             [
              0.1111111111111111,
              "#46039f"
             ],
             [
              0.2222222222222222,
              "#7201a8"
             ],
             [
              0.3333333333333333,
              "#9c179e"
             ],
             [
              0.4444444444444444,
              "#bd3786"
             ],
             [
              0.5555555555555556,
              "#d8576b"
             ],
             [
              0.6666666666666666,
              "#ed7953"
             ],
             [
              0.7777777777777778,
              "#fb9f3a"
             ],
             [
              0.8888888888888888,
              "#fdca26"
             ],
             [
              1,
              "#f0f921"
             ]
            ],
            "type": "histogram2d"
           }
          ],
          "histogram2dcontour": [
           {
            "colorbar": {
             "outlinewidth": 0,
             "ticks": ""
            },
            "colorscale": [
             [
              0,
              "#0d0887"
             ],
             [
              0.1111111111111111,
              "#46039f"
             ],
             [
              0.2222222222222222,
              "#7201a8"
             ],
             [
              0.3333333333333333,
              "#9c179e"
             ],
             [
              0.4444444444444444,
              "#bd3786"
             ],
             [
              0.5555555555555556,
              "#d8576b"
             ],
             [
              0.6666666666666666,
              "#ed7953"
             ],
             [
              0.7777777777777778,
              "#fb9f3a"
             ],
             [
              0.8888888888888888,
              "#fdca26"
             ],
             [
              1,
              "#f0f921"
             ]
            ],
            "type": "histogram2dcontour"
           }
          ],
          "mesh3d": [
           {
            "colorbar": {
             "outlinewidth": 0,
             "ticks": ""
            },
            "type": "mesh3d"
           }
          ],
          "parcoords": [
           {
            "line": {
             "colorbar": {
              "outlinewidth": 0,
              "ticks": ""
             }
            },
            "type": "parcoords"
           }
          ],
          "pie": [
           {
            "automargin": true,
            "type": "pie"
           }
          ],
          "scatter": [
           {
            "marker": {
             "colorbar": {
              "outlinewidth": 0,
              "ticks": ""
             }
            },
            "type": "scatter"
           }
          ],
          "scatter3d": [
           {
            "line": {
             "colorbar": {
              "outlinewidth": 0,
              "ticks": ""
             }
            },
            "marker": {
             "colorbar": {
              "outlinewidth": 0,
              "ticks": ""
             }
            },
            "type": "scatter3d"
           }
          ],
          "scattercarpet": [
           {
            "marker": {
             "colorbar": {
              "outlinewidth": 0,
              "ticks": ""
             }
            },
            "type": "scattercarpet"
           }
          ],
          "scattergeo": [
           {
            "marker": {
             "colorbar": {
              "outlinewidth": 0,
              "ticks": ""
             }
            },
            "type": "scattergeo"
           }
          ],
          "scattergl": [
           {
            "marker": {
             "colorbar": {
              "outlinewidth": 0,
              "ticks": ""
             }
            },
            "type": "scattergl"
           }
          ],
          "scattermapbox": [
           {
            "marker": {
             "colorbar": {
              "outlinewidth": 0,
              "ticks": ""
             }
            },
            "type": "scattermapbox"
           }
          ],
          "scatterpolar": [
           {
            "marker": {
             "colorbar": {
              "outlinewidth": 0,
              "ticks": ""
             }
            },
            "type": "scatterpolar"
           }
          ],
          "scatterpolargl": [
           {
            "marker": {
             "colorbar": {
              "outlinewidth": 0,
              "ticks": ""
             }
            },
            "type": "scatterpolargl"
           }
          ],
          "scatterternary": [
           {
            "marker": {
             "colorbar": {
              "outlinewidth": 0,
              "ticks": ""
             }
            },
            "type": "scatterternary"
           }
          ],
          "surface": [
           {
            "colorbar": {
             "outlinewidth": 0,
             "ticks": ""
            },
            "colorscale": [
             [
              0,
              "#0d0887"
             ],
             [
              0.1111111111111111,
              "#46039f"
             ],
             [
              0.2222222222222222,
              "#7201a8"
             ],
             [
              0.3333333333333333,
              "#9c179e"
             ],
             [
              0.4444444444444444,
              "#bd3786"
             ],
             [
              0.5555555555555556,
              "#d8576b"
             ],
             [
              0.6666666666666666,
              "#ed7953"
             ],
             [
              0.7777777777777778,
              "#fb9f3a"
             ],
             [
              0.8888888888888888,
              "#fdca26"
             ],
             [
              1,
              "#f0f921"
             ]
            ],
            "type": "surface"
           }
          ],
          "table": [
           {
            "cells": {
             "fill": {
              "color": "#EBF0F8"
             },
             "line": {
              "color": "white"
             }
            },
            "header": {
             "fill": {
              "color": "#C8D4E3"
             },
             "line": {
              "color": "white"
             }
            },
            "type": "table"
           }
          ]
         },
         "layout": {
          "annotationdefaults": {
           "arrowcolor": "#2a3f5f",
           "arrowhead": 0,
           "arrowwidth": 1
          },
          "autotypenumbers": "strict",
          "coloraxis": {
           "colorbar": {
            "outlinewidth": 0,
            "ticks": ""
           }
          },
          "colorscale": {
           "diverging": [
            [
             0,
             "#8e0152"
            ],
            [
             0.1,
             "#c51b7d"
            ],
            [
             0.2,
             "#de77ae"
            ],
            [
             0.3,
             "#f1b6da"
            ],
            [
             0.4,
             "#fde0ef"
            ],
            [
             0.5,
             "#f7f7f7"
            ],
            [
             0.6,
             "#e6f5d0"
            ],
            [
             0.7,
             "#b8e186"
            ],
            [
             0.8,
             "#7fbc41"
            ],
            [
             0.9,
             "#4d9221"
            ],
            [
             1,
             "#276419"
            ]
           ],
           "sequential": [
            [
             0,
             "#0d0887"
            ],
            [
             0.1111111111111111,
             "#46039f"
            ],
            [
             0.2222222222222222,
             "#7201a8"
            ],
            [
             0.3333333333333333,
             "#9c179e"
            ],
            [
             0.4444444444444444,
             "#bd3786"
            ],
            [
             0.5555555555555556,
             "#d8576b"
            ],
            [
             0.6666666666666666,
             "#ed7953"
            ],
            [
             0.7777777777777778,
             "#fb9f3a"
            ],
            [
             0.8888888888888888,
             "#fdca26"
            ],
            [
             1,
             "#f0f921"
            ]
           ],
           "sequentialminus": [
            [
             0,
             "#0d0887"
            ],
            [
             0.1111111111111111,
             "#46039f"
            ],
            [
             0.2222222222222222,
             "#7201a8"
            ],
            [
             0.3333333333333333,
             "#9c179e"
            ],
            [
             0.4444444444444444,
             "#bd3786"
            ],
            [
             0.5555555555555556,
             "#d8576b"
            ],
            [
             0.6666666666666666,
             "#ed7953"
            ],
            [
             0.7777777777777778,
             "#fb9f3a"
            ],
            [
             0.8888888888888888,
             "#fdca26"
            ],
            [
             1,
             "#f0f921"
            ]
           ]
          },
          "colorway": [
           "#636efa",
           "#EF553B",
           "#00cc96",
           "#ab63fa",
           "#FFA15A",
           "#19d3f3",
           "#FF6692",
           "#B6E880",
           "#FF97FF",
           "#FECB52"
          ],
          "font": {
           "color": "#2a3f5f"
          },
          "geo": {
           "bgcolor": "white",
           "lakecolor": "white",
           "landcolor": "#E5ECF6",
           "showlakes": true,
           "showland": true,
           "subunitcolor": "white"
          },
          "hoverlabel": {
           "align": "left"
          },
          "hovermode": "closest",
          "mapbox": {
           "style": "light"
          },
          "paper_bgcolor": "white",
          "plot_bgcolor": "#E5ECF6",
          "polar": {
           "angularaxis": {
            "gridcolor": "white",
            "linecolor": "white",
            "ticks": ""
           },
           "bgcolor": "#E5ECF6",
           "radialaxis": {
            "gridcolor": "white",
            "linecolor": "white",
            "ticks": ""
           }
          },
          "scene": {
           "xaxis": {
            "backgroundcolor": "#E5ECF6",
            "gridcolor": "white",
            "gridwidth": 2,
            "linecolor": "white",
            "showbackground": true,
            "ticks": "",
            "zerolinecolor": "white"
           },
           "yaxis": {
            "backgroundcolor": "#E5ECF6",
            "gridcolor": "white",
            "gridwidth": 2,
            "linecolor": "white",
            "showbackground": true,
            "ticks": "",
            "zerolinecolor": "white"
           },
           "zaxis": {
            "backgroundcolor": "#E5ECF6",
            "gridcolor": "white",
            "gridwidth": 2,
            "linecolor": "white",
            "showbackground": true,
            "ticks": "",
            "zerolinecolor": "white"
           }
          },
          "shapedefaults": {
           "line": {
            "color": "#2a3f5f"
           }
          },
          "ternary": {
           "aaxis": {
            "gridcolor": "white",
            "linecolor": "white",
            "ticks": ""
           },
           "baxis": {
            "gridcolor": "white",
            "linecolor": "white",
            "ticks": ""
           },
           "bgcolor": "#E5ECF6",
           "caxis": {
            "gridcolor": "white",
            "linecolor": "white",
            "ticks": ""
           }
          },
          "title": {
           "x": 0.05
          },
          "xaxis": {
           "automargin": true,
           "gridcolor": "white",
           "linecolor": "white",
           "ticks": "",
           "title": {
            "standoff": 15
           },
           "zerolinecolor": "white",
           "zerolinewidth": 2
          },
          "yaxis": {
           "automargin": true,
           "gridcolor": "white",
           "linecolor": "white",
           "ticks": "",
           "title": {
            "standoff": 15
           },
           "zerolinecolor": "white",
           "zerolinewidth": 2
          }
         }
        }
       }
      },
      "text/html": [
       "<div>                            <div id=\"e6fdf854-f1f3-4645-8a67-07f2417fd529\" class=\"plotly-graph-div\" style=\"height:525px; width:100%;\"></div>            <script type=\"text/javascript\">                require([\"plotly\"], function(Plotly) {                    window.PLOTLYENV=window.PLOTLYENV || {};                                    if (document.getElementById(\"e6fdf854-f1f3-4645-8a67-07f2417fd529\")) {                    Plotly.newPlot(                        \"e6fdf854-f1f3-4645-8a67-07f2417fd529\",                        [{\"hovertemplate\":\"X1=%{x}<br>X2=%{y}<br>X3=%{z}<br>Class=%{marker.color}<extra></extra>\",\"legendgroup\":\"\",\"marker\":{\"color\":[0,0,0,0,0,0,0,0,0,0,0,0,0,0,0,0,0,0,0,0,0,0,0,0,0,0,0,0,0,0,0,0,1,1,1,1,1,1,1,1,1,1,1,1,1,1,1,1,1,1,1,1,1,1,1,1,1,1,1,1,1,1,2,2,2,2,2,2,2,2,2,2,2,2,2,2,2,2,2,2,2,2,2,2,2,2,2,2,2,2,2,2,3,3,3,3,3,3,3,3,3,3,3,3,3,3,3,3,3,3,3,3,3,3,3,3,3,3,3,3,3,3,4,4,4,4,4,4,4,4,4,4,4,4,4,4,4,4,4,4,4,4,4,4,4,4,4,4,4,4,4,4,5,5,5,5,5,5,5,5,5,5,5,5,5,5,5,5,5,5,5,5,5,5,5,5,5,5,5,5,5,5,6,6,6,6,6,6,6,6,6,6,6,6,6,6,6,6,6,6,6,6,6,6,6,6,6,6,6,6,6,6],\"coloraxis\":\"coloraxis\",\"symbol\":\"circle\"},\"mode\":\"markers\",\"name\":\"\",\"scene\":\"scene\",\"showlegend\":false,\"x\":[-0.063274,-0.000731,-0.060767,0.013252,-0.054508,0.02418,-0.029308,-0.016453,-0.042361,-0.01631,0.03536,-0.000287,-0.065931,0.009049,-0.005335,-0.004175,0.091024,-0.077068,0.05515,-0.033779,0.044954,0.008785,-0.061655,-0.051274,0.04421,-0.003343,-0.064487,0.042168,-0.061495,0.071795,0.058733,0.078178,2.418463,2.805184,2.983722,3.055291,3.015527,2.449981,3.199806,3.266405,3.74771,3.411849,3.733854,3.59214,3.59351,2.387269,3.423791,2.425059,2.407337,2.923991,3.188203,2.377023,2.610067,2.918826,2.932853,3.47194,3.266172,2.916963,3.020822,2.844004,2.826876,2.771511,-2.69712,-2.57583,-3.308062,-3.970394,-3.332026,-2.679173,-2.186732,-3.013009,-3.464085,-2.632916,-3.315788,-2.833584,-2.722148,-2.608905,-2.853364,-2.809655,-3.538035,-2.457811,-2.762541,-2.929594,-3.054864,-3.632051,-3.595796,-2.285053,-2.664311,-3.163578,-2.599157,-3.381994,-3.961031,-2.827045,0.498135,0.218436,0.135451,0.420118,0.659865,0.619487,-0.294208,-0.362217,-0.561919,0.186843,0.450086,-0.047549,0.432449,0.444504,-0.116409,-0.601582,0.268449,-0.007967,-0.811876,-0.003684,0.27221,-0.003839,0.175357,-0.350178,0.016665,0.394178,0.715985,0.28994,0.854454,0.308424,-0.154151,0.042376,0.76406,0.273431,0.109072,-0.609027,0.563714,0.053112,0.374246,-0.25541,-0.05833,0.436804,-0.185927,-0.15729,-0.253287,0.856338,-0.448767,-0.763126,0.50729,-0.262387,0.638189,-0.715655,-0.148243,-0.436461,-0.015747,-0.380327,-0.078679,0.725907,-0.118512,0.378156,-0.646687,0.862612,0.58395,-0.106313,-0.447773,0.278688,-0.499959,0.628733,-0.550777,0.280057,-0.68149,-0.150402,-0.175775,0.40849,-0.687687,0.187892,0.40274,-0.333692,-0.073884,0.074276,-0.234023,0.33853,0.777033,0.093523,0.215945,-0.031152,0.26075,-0.542543,-0.306005,-0.114414,-0.749873,-0.108157,-0.410898,0.662499,-0.057589,0.64518,0.257191,-0.169119,0.228327,-0.512238,-0.510091,-0.001328,-0.086874,-0.558094,0.640575,0.033866,-0.530334,0.488731,-0.320178,0.143306,-0.36578,0.660425,0.647696,-0.110876,-0.694187,0.175738,0.396046,-0.406362,-0.299275,-0.506192],\"y\":[0.027734,0.048211,-0.00908,-0.011876,-0.003813,0.068275,0.059849,0.013881,-0.059942,-0.036612,-0.04495,-0.049496,-0.005381,0.027976,0.062592,0.064646,-0.031446,-0.035324,-0.007045,0.049066,-0.033716,0.016895,-0.023085,0.054634,-0.062217,0.069586,0.012217,-0.009972,0.059835,-0.01526,-0.029135,-0.014786,0.490127,0.769746,-0.983118,-0.477796,-0.666039,0.175666,0.201051,0.012518,-0.41696,0.516665,0.184758,-0.371411,0.125884,0.784515,-0.039296,-0.206822,-0.015134,-0.262388,-0.476377,0.498033,0.787375,-0.8296,0.719728,0.322667,0.207763,-0.636281,-0.491739,-0.078753,-0.241459,0.362751,0.342837,-0.752408,0.919403,-0.017968,-0.22133,0.521163,-0.536953,-0.082401,0.458797,0.683901,0.017903,-0.684569,-0.502344,0.443179,-0.788934,-0.092462,0.777137,-0.601538,-0.540911,-0.162338,-0.220749,-0.045369,-0.25031,0.111547,-0.035719,0.286805,0.438496,0.308228,-0.111044,-0.074139,2.895371,3.067538,2.12925,3.055572,3.446317,3.285343,3.296888,2.657112,3.334167,3.706688,2.844335,3.634562,3.774495,3.491508,2.618886,3.548497,3.662073,2.91813,2.976918,2.460306,2.287469,3.107724,3.715249,2.515348,2.986915,2.772903,3.467443,2.60696,2.895231,3.293211,-2.382802,-3.013402,-2.974825,-3.549045,-2.872739,-2.316553,-2.668933,-3.69483,-3.881493,-2.573785,-3.539877,-2.849058,-2.83419,-3.035242,-2.355499,-2.928918,-2.892567,-3.121529,-3.69845,-2.7936,-2.885896,-3.174318,-2.348742,-3.189614,-3.601469,-2.120669,-2.969195,-2.642703,-2.391662,-3.742474,-0.257803,-0.257097,0.25262,0.539686,-0.165269,-0.67851,-0.102398,-0.136098,0.820583,-0.332023,-0.388565,0.774676,0.816718,-0.752991,0.5331,0.099277,0.309218,0.726125,0.856673,-0.44986,0.508787,-0.722352,0.217745,0.595698,-0.323846,0.385966,0.391448,0.386463,-0.915958,0.026251,0.616942,-0.083104,0.467216,-0.378195,0.548771,-0.276585,0.114881,0.400328,-0.513736,0.372109,-0.617806,0.275274,0.138084,-0.138533,-0.52869,0.301424,0.571733,0.68226,-0.530404,0.578726,-0.491918,-0.259537,0.44422,0.163359,0.258777,-0.053478,-0.858377,-0.334541,0.071281,0.433538],\"z\":[0.022683,0.069198,0.053085,0.055324,0.001738,0.033462,-0.06326,-0.013236,-0.026487,0.047928,0.041474,-0.06343,-0.064899,0.01198,-0.057507,0.040856,-0.014774,-0.03906,0.078495,0.026958,0.011894,-0.09079,0.007996,0.032257,-0.018733,0.069452,0.040873,0.047962,0.025843,-0.023346,-0.011721,-0.00032,0.033581,-0.557435,-0.165216,0.370524,0.126169,-0.531892,0.58676,-0.761892,0.148884,-0.702665,0.482416,-0.673235,0.277346,-0.011033,0.066654,-0.263965,0.097093,-0.672982,0.051427,-0.382225,0.046041,-0.198249,-0.347704,0.25302,0.078446,-0.459655,0.382338,-0.660588,-0.143806,-0.669945,0.296855,-0.225828,-0.091698,0.097194,-0.410873,0.033068,-0.08933,-0.750346,-0.745681,-0.153258,0.703027,0.298511,0.245003,0.447541,-0.276868,0.719525,0.091226,0.548791,0.251193,0.427959,0.858853,0.497112,-0.26069,0.652847,0.357768,-0.843201,0.094013,-0.689706,0.022821,0.54136,0.786843,0.030236,0.320246,0.230617,-0.101455,0.278274,-0.174357,0.01996,0.068536,-0.259004,0.073905,0.613045,0.096256,-0.745843,0.576378,0.101766,-0.103739,0.390422,-0.40471,0.323449,-0.243128,-0.876719,0.344842,0.695052,-0.265349,0.583035,-0.171137,0.767379,-0.335877,-0.383773,-0.552876,0.26318,0.304909,0.602433,-0.972276,0.05604,0.272222,-0.446254,-0.178669,-0.369218,0.156878,-0.705822,-0.871306,-0.447355,0.53801,-0.105247,0.036684,0.012815,-0.126832,0.893868,-0.535134,-0.415442,-0.198939,-0.874082,0.678772,-0.201018,-0.085163,-0.392598,-0.116857,0.42604,2.879026,3.339622,3.164447,3.36243,2.395462,3.019065,2.918835,2.961669,2.888145,2.280202,2.852309,3.236697,2.810907,2.708342,2.864252,3.3971,2.184721,2.755337,3.449364,2.289555,2.627695,2.402052,2.671151,3.532532,2.195408,3.106696,2.176698,2.917456,2.884296,3.899389,-2.862605,-3.909294,-3.64399,-2.900845,-3.072026,-2.877792,-2.929682,-2.853299,-3.600658,-3.357134,-3.543896,-2.367165,-3.152736,-2.731829,-2.882579,-2.949164,-3.122279,-3.026392,-2.430535,-3.657507,-2.483666,-3.671958,-2.807808,-3.038903,-2.411717,-2.733752,-3.126866,-2.885598,-3.642585,-2.608597],\"type\":\"scatter3d\"}],                        {\"template\":{\"data\":{\"bar\":[{\"error_x\":{\"color\":\"#2a3f5f\"},\"error_y\":{\"color\":\"#2a3f5f\"},\"marker\":{\"line\":{\"color\":\"#E5ECF6\",\"width\":0.5},\"pattern\":{\"fillmode\":\"overlay\",\"size\":10,\"solidity\":0.2}},\"type\":\"bar\"}],\"barpolar\":[{\"marker\":{\"line\":{\"color\":\"#E5ECF6\",\"width\":0.5},\"pattern\":{\"fillmode\":\"overlay\",\"size\":10,\"solidity\":0.2}},\"type\":\"barpolar\"}],\"carpet\":[{\"aaxis\":{\"endlinecolor\":\"#2a3f5f\",\"gridcolor\":\"white\",\"linecolor\":\"white\",\"minorgridcolor\":\"white\",\"startlinecolor\":\"#2a3f5f\"},\"baxis\":{\"endlinecolor\":\"#2a3f5f\",\"gridcolor\":\"white\",\"linecolor\":\"white\",\"minorgridcolor\":\"white\",\"startlinecolor\":\"#2a3f5f\"},\"type\":\"carpet\"}],\"choropleth\":[{\"colorbar\":{\"outlinewidth\":0,\"ticks\":\"\"},\"type\":\"choropleth\"}],\"contour\":[{\"colorbar\":{\"outlinewidth\":0,\"ticks\":\"\"},\"colorscale\":[[0.0,\"#0d0887\"],[0.1111111111111111,\"#46039f\"],[0.2222222222222222,\"#7201a8\"],[0.3333333333333333,\"#9c179e\"],[0.4444444444444444,\"#bd3786\"],[0.5555555555555556,\"#d8576b\"],[0.6666666666666666,\"#ed7953\"],[0.7777777777777778,\"#fb9f3a\"],[0.8888888888888888,\"#fdca26\"],[1.0,\"#f0f921\"]],\"type\":\"contour\"}],\"contourcarpet\":[{\"colorbar\":{\"outlinewidth\":0,\"ticks\":\"\"},\"type\":\"contourcarpet\"}],\"heatmap\":[{\"colorbar\":{\"outlinewidth\":0,\"ticks\":\"\"},\"colorscale\":[[0.0,\"#0d0887\"],[0.1111111111111111,\"#46039f\"],[0.2222222222222222,\"#7201a8\"],[0.3333333333333333,\"#9c179e\"],[0.4444444444444444,\"#bd3786\"],[0.5555555555555556,\"#d8576b\"],[0.6666666666666666,\"#ed7953\"],[0.7777777777777778,\"#fb9f3a\"],[0.8888888888888888,\"#fdca26\"],[1.0,\"#f0f921\"]],\"type\":\"heatmap\"}],\"heatmapgl\":[{\"colorbar\":{\"outlinewidth\":0,\"ticks\":\"\"},\"colorscale\":[[0.0,\"#0d0887\"],[0.1111111111111111,\"#46039f\"],[0.2222222222222222,\"#7201a8\"],[0.3333333333333333,\"#9c179e\"],[0.4444444444444444,\"#bd3786\"],[0.5555555555555556,\"#d8576b\"],[0.6666666666666666,\"#ed7953\"],[0.7777777777777778,\"#fb9f3a\"],[0.8888888888888888,\"#fdca26\"],[1.0,\"#f0f921\"]],\"type\":\"heatmapgl\"}],\"histogram\":[{\"marker\":{\"pattern\":{\"fillmode\":\"overlay\",\"size\":10,\"solidity\":0.2}},\"type\":\"histogram\"}],\"histogram2d\":[{\"colorbar\":{\"outlinewidth\":0,\"ticks\":\"\"},\"colorscale\":[[0.0,\"#0d0887\"],[0.1111111111111111,\"#46039f\"],[0.2222222222222222,\"#7201a8\"],[0.3333333333333333,\"#9c179e\"],[0.4444444444444444,\"#bd3786\"],[0.5555555555555556,\"#d8576b\"],[0.6666666666666666,\"#ed7953\"],[0.7777777777777778,\"#fb9f3a\"],[0.8888888888888888,\"#fdca26\"],[1.0,\"#f0f921\"]],\"type\":\"histogram2d\"}],\"histogram2dcontour\":[{\"colorbar\":{\"outlinewidth\":0,\"ticks\":\"\"},\"colorscale\":[[0.0,\"#0d0887\"],[0.1111111111111111,\"#46039f\"],[0.2222222222222222,\"#7201a8\"],[0.3333333333333333,\"#9c179e\"],[0.4444444444444444,\"#bd3786\"],[0.5555555555555556,\"#d8576b\"],[0.6666666666666666,\"#ed7953\"],[0.7777777777777778,\"#fb9f3a\"],[0.8888888888888888,\"#fdca26\"],[1.0,\"#f0f921\"]],\"type\":\"histogram2dcontour\"}],\"mesh3d\":[{\"colorbar\":{\"outlinewidth\":0,\"ticks\":\"\"},\"type\":\"mesh3d\"}],\"parcoords\":[{\"line\":{\"colorbar\":{\"outlinewidth\":0,\"ticks\":\"\"}},\"type\":\"parcoords\"}],\"pie\":[{\"automargin\":true,\"type\":\"pie\"}],\"scatter\":[{\"marker\":{\"colorbar\":{\"outlinewidth\":0,\"ticks\":\"\"}},\"type\":\"scatter\"}],\"scatter3d\":[{\"line\":{\"colorbar\":{\"outlinewidth\":0,\"ticks\":\"\"}},\"marker\":{\"colorbar\":{\"outlinewidth\":0,\"ticks\":\"\"}},\"type\":\"scatter3d\"}],\"scattercarpet\":[{\"marker\":{\"colorbar\":{\"outlinewidth\":0,\"ticks\":\"\"}},\"type\":\"scattercarpet\"}],\"scattergeo\":[{\"marker\":{\"colorbar\":{\"outlinewidth\":0,\"ticks\":\"\"}},\"type\":\"scattergeo\"}],\"scattergl\":[{\"marker\":{\"colorbar\":{\"outlinewidth\":0,\"ticks\":\"\"}},\"type\":\"scattergl\"}],\"scattermapbox\":[{\"marker\":{\"colorbar\":{\"outlinewidth\":0,\"ticks\":\"\"}},\"type\":\"scattermapbox\"}],\"scatterpolar\":[{\"marker\":{\"colorbar\":{\"outlinewidth\":0,\"ticks\":\"\"}},\"type\":\"scatterpolar\"}],\"scatterpolargl\":[{\"marker\":{\"colorbar\":{\"outlinewidth\":0,\"ticks\":\"\"}},\"type\":\"scatterpolargl\"}],\"scatterternary\":[{\"marker\":{\"colorbar\":{\"outlinewidth\":0,\"ticks\":\"\"}},\"type\":\"scatterternary\"}],\"surface\":[{\"colorbar\":{\"outlinewidth\":0,\"ticks\":\"\"},\"colorscale\":[[0.0,\"#0d0887\"],[0.1111111111111111,\"#46039f\"],[0.2222222222222222,\"#7201a8\"],[0.3333333333333333,\"#9c179e\"],[0.4444444444444444,\"#bd3786\"],[0.5555555555555556,\"#d8576b\"],[0.6666666666666666,\"#ed7953\"],[0.7777777777777778,\"#fb9f3a\"],[0.8888888888888888,\"#fdca26\"],[1.0,\"#f0f921\"]],\"type\":\"surface\"}],\"table\":[{\"cells\":{\"fill\":{\"color\":\"#EBF0F8\"},\"line\":{\"color\":\"white\"}},\"header\":{\"fill\":{\"color\":\"#C8D4E3\"},\"line\":{\"color\":\"white\"}},\"type\":\"table\"}]},\"layout\":{\"annotationdefaults\":{\"arrowcolor\":\"#2a3f5f\",\"arrowhead\":0,\"arrowwidth\":1},\"autotypenumbers\":\"strict\",\"coloraxis\":{\"colorbar\":{\"outlinewidth\":0,\"ticks\":\"\"}},\"colorscale\":{\"diverging\":[[0,\"#8e0152\"],[0.1,\"#c51b7d\"],[0.2,\"#de77ae\"],[0.3,\"#f1b6da\"],[0.4,\"#fde0ef\"],[0.5,\"#f7f7f7\"],[0.6,\"#e6f5d0\"],[0.7,\"#b8e186\"],[0.8,\"#7fbc41\"],[0.9,\"#4d9221\"],[1,\"#276419\"]],\"sequential\":[[0.0,\"#0d0887\"],[0.1111111111111111,\"#46039f\"],[0.2222222222222222,\"#7201a8\"],[0.3333333333333333,\"#9c179e\"],[0.4444444444444444,\"#bd3786\"],[0.5555555555555556,\"#d8576b\"],[0.6666666666666666,\"#ed7953\"],[0.7777777777777778,\"#fb9f3a\"],[0.8888888888888888,\"#fdca26\"],[1.0,\"#f0f921\"]],\"sequentialminus\":[[0.0,\"#0d0887\"],[0.1111111111111111,\"#46039f\"],[0.2222222222222222,\"#7201a8\"],[0.3333333333333333,\"#9c179e\"],[0.4444444444444444,\"#bd3786\"],[0.5555555555555556,\"#d8576b\"],[0.6666666666666666,\"#ed7953\"],[0.7777777777777778,\"#fb9f3a\"],[0.8888888888888888,\"#fdca26\"],[1.0,\"#f0f921\"]]},\"colorway\":[\"#636efa\",\"#EF553B\",\"#00cc96\",\"#ab63fa\",\"#FFA15A\",\"#19d3f3\",\"#FF6692\",\"#B6E880\",\"#FF97FF\",\"#FECB52\"],\"font\":{\"color\":\"#2a3f5f\"},\"geo\":{\"bgcolor\":\"white\",\"lakecolor\":\"white\",\"landcolor\":\"#E5ECF6\",\"showlakes\":true,\"showland\":true,\"subunitcolor\":\"white\"},\"hoverlabel\":{\"align\":\"left\"},\"hovermode\":\"closest\",\"mapbox\":{\"style\":\"light\"},\"paper_bgcolor\":\"white\",\"plot_bgcolor\":\"#E5ECF6\",\"polar\":{\"angularaxis\":{\"gridcolor\":\"white\",\"linecolor\":\"white\",\"ticks\":\"\"},\"bgcolor\":\"#E5ECF6\",\"radialaxis\":{\"gridcolor\":\"white\",\"linecolor\":\"white\",\"ticks\":\"\"}},\"scene\":{\"xaxis\":{\"backgroundcolor\":\"#E5ECF6\",\"gridcolor\":\"white\",\"gridwidth\":2,\"linecolor\":\"white\",\"showbackground\":true,\"ticks\":\"\",\"zerolinecolor\":\"white\"},\"yaxis\":{\"backgroundcolor\":\"#E5ECF6\",\"gridcolor\":\"white\",\"gridwidth\":2,\"linecolor\":\"white\",\"showbackground\":true,\"ticks\":\"\",\"zerolinecolor\":\"white\"},\"zaxis\":{\"backgroundcolor\":\"#E5ECF6\",\"gridcolor\":\"white\",\"gridwidth\":2,\"linecolor\":\"white\",\"showbackground\":true,\"ticks\":\"\",\"zerolinecolor\":\"white\"}},\"shapedefaults\":{\"line\":{\"color\":\"#2a3f5f\"}},\"ternary\":{\"aaxis\":{\"gridcolor\":\"white\",\"linecolor\":\"white\",\"ticks\":\"\"},\"baxis\":{\"gridcolor\":\"white\",\"linecolor\":\"white\",\"ticks\":\"\"},\"bgcolor\":\"#E5ECF6\",\"caxis\":{\"gridcolor\":\"white\",\"linecolor\":\"white\",\"ticks\":\"\"}},\"title\":{\"x\":0.05},\"xaxis\":{\"automargin\":true,\"gridcolor\":\"white\",\"linecolor\":\"white\",\"ticks\":\"\",\"title\":{\"standoff\":15},\"zerolinecolor\":\"white\",\"zerolinewidth\":2},\"yaxis\":{\"automargin\":true,\"gridcolor\":\"white\",\"linecolor\":\"white\",\"ticks\":\"\",\"title\":{\"standoff\":15},\"zerolinecolor\":\"white\",\"zerolinewidth\":2}}},\"scene\":{\"domain\":{\"x\":[0.0,1.0],\"y\":[0.0,1.0]},\"xaxis\":{\"title\":{\"text\":\"X1\"}},\"yaxis\":{\"title\":{\"text\":\"X2\"}},\"zaxis\":{\"title\":{\"text\":\"X3\"}}},\"coloraxis\":{\"colorbar\":{\"title\":{\"text\":\"Class\"}},\"colorscale\":[[0.0,\"#0d0887\"],[0.1111111111111111,\"#46039f\"],[0.2222222222222222,\"#7201a8\"],[0.3333333333333333,\"#9c179e\"],[0.4444444444444444,\"#bd3786\"],[0.5555555555555556,\"#d8576b\"],[0.6666666666666666,\"#ed7953\"],[0.7777777777777778,\"#fb9f3a\"],[0.8888888888888888,\"#fdca26\"],[1.0,\"#f0f921\"]]},\"legend\":{\"tracegroupgap\":0},\"margin\":{\"t\":60}},                        {\"responsive\": true}                    ).then(function(){\n",
       "                            \n",
       "var gd = document.getElementById('e6fdf854-f1f3-4645-8a67-07f2417fd529');\n",
       "var x = new MutationObserver(function (mutations, observer) {{\n",
       "        var display = window.getComputedStyle(gd).display;\n",
       "        if (!display || display === 'none') {{\n",
       "            console.log([gd, 'removed!']);\n",
       "            Plotly.purge(gd);\n",
       "            observer.disconnect();\n",
       "        }}\n",
       "}});\n",
       "\n",
       "// Listen for the removal of the full notebook cells\n",
       "var notebookContainer = gd.closest('#notebook-container');\n",
       "if (notebookContainer) {{\n",
       "    x.observe(notebookContainer, {childList: true});\n",
       "}}\n",
       "\n",
       "// Listen for the clearing of the current output cell\n",
       "var outputEl = gd.closest('.output');\n",
       "if (outputEl) {{\n",
       "    x.observe(outputEl, {childList: true});\n",
       "}}\n",
       "\n",
       "                        })                };                });            </script>        </div>"
      ]
     },
     "metadata": {},
     "output_type": "display_data"
    }
   ],
   "source": [
    "import plotly.express as px\n",
    "fig = px.scatter_3d(df_data1, x='X1', y='X2', z='X3',color='Class')\n",
    "fig.show()"
   ]
  },
  {
   "cell_type": "code",
   "execution_count": 62,
   "id": "fc72927f",
   "metadata": {},
   "outputs": [
    {
     "data": {
      "application/vnd.plotly.v1+json": {
       "config": {
        "plotlyServerURL": "https://plot.ly"
       },
       "data": [
        {
         "hovertemplate": "X1=%{x}<br>X2=%{y}<br>X3=%{z}<br>Class=%{marker.color}<extra></extra>",
         "legendgroup": "",
         "marker": {
          "color": [
           4,
           4,
           4,
           4,
           4,
           4,
           4,
           4,
           4,
           4,
           4,
           4,
           4,
           4,
           4,
           4,
           4,
           4,
           4,
           4,
           4,
           4,
           4,
           4,
           4,
           4,
           4,
           4,
           4,
           4,
           4,
           4,
           2,
           2,
           2,
           2,
           2,
           2,
           2,
           2,
           2,
           2,
           2,
           2,
           2,
           2,
           2,
           2,
           2,
           2,
           2,
           2,
           2,
           2,
           2,
           2,
           2,
           2,
           2,
           2,
           2,
           2,
           3,
           3,
           3,
           3,
           3,
           3,
           3,
           3,
           3,
           3,
           3,
           3,
           3,
           3,
           3,
           3,
           3,
           3,
           3,
           3,
           3,
           3,
           3,
           3,
           3,
           3,
           3,
           3,
           3,
           3,
           1,
           1,
           1,
           1,
           1,
           1,
           1,
           1,
           1,
           1,
           1,
           1,
           1,
           1,
           1,
           1,
           1,
           1,
           1,
           1,
           1,
           1,
           1,
           1,
           1,
           1,
           1,
           1,
           1,
           1,
           0,
           0,
           0,
           0,
           0,
           0,
           0,
           0,
           0,
           0,
           0,
           0,
           0,
           0,
           0,
           0,
           0,
           0,
           0,
           0,
           0,
           0,
           0,
           0,
           0,
           0,
           0,
           0,
           0,
           0,
           5,
           5,
           5,
           5,
           5,
           5,
           5,
           5,
           5,
           5,
           5,
           5,
           5,
           5,
           5,
           5,
           5,
           5,
           5,
           5,
           5,
           5,
           5,
           5,
           5,
           5,
           5,
           5,
           5,
           5,
           6,
           6,
           6,
           6,
           6,
           6,
           6,
           6,
           6,
           6,
           6,
           6,
           6,
           6,
           6,
           6,
           6,
           6,
           6,
           6,
           6,
           6,
           6,
           6,
           6,
           6,
           6,
           6,
           6,
           6
          ],
          "coloraxis": "coloraxis",
          "symbol": "circle"
         },
         "mode": "markers",
         "name": "",
         "scene": "scene",
         "showlegend": false,
         "type": "scatter3d",
         "x": [
          -0.063274,
          -0.000731,
          -0.060767,
          0.013252,
          -0.054508,
          0.02418,
          -0.029308,
          -0.016453,
          -0.042361,
          -0.01631,
          0.03536,
          -0.000287,
          -0.065931,
          0.009049,
          -0.005335,
          -0.004175,
          0.091024,
          -0.077068,
          0.05515,
          -0.033779,
          0.044954,
          0.008785,
          -0.061655,
          -0.051274,
          0.04421,
          -0.003343,
          -0.064487,
          0.042168,
          -0.061495,
          0.071795,
          0.058733,
          0.078178,
          2.418463,
          2.805184,
          2.983722,
          3.055291,
          3.015527,
          2.449981,
          3.199806,
          3.266405,
          3.74771,
          3.411849,
          3.733854,
          3.59214,
          3.59351,
          2.387269,
          3.423791,
          2.425059,
          2.407337,
          2.923991,
          3.188203,
          2.377023,
          2.610067,
          2.918826,
          2.932853,
          3.47194,
          3.266172,
          2.916963,
          3.020822,
          2.844004,
          2.826876,
          2.771511,
          -2.69712,
          -2.57583,
          -3.308062,
          -3.970394,
          -3.332026,
          -2.679173,
          -2.186732,
          -3.013009,
          -3.464085,
          -2.632916,
          -3.315788,
          -2.833584,
          -2.722148,
          -2.608905,
          -2.853364,
          -2.809655,
          -3.538035,
          -2.457811,
          -2.762541,
          -2.929594,
          -3.054864,
          -3.632051,
          -3.595796,
          -2.285053,
          -2.664311,
          -3.163578,
          -2.599157,
          -3.381994,
          -3.961031,
          -2.827045,
          0.498135,
          0.218436,
          0.135451,
          0.420118,
          0.659865,
          0.619487,
          -0.294208,
          -0.362217,
          -0.561919,
          0.186843,
          0.450086,
          -0.047549,
          0.432449,
          0.444504,
          -0.116409,
          -0.601582,
          0.268449,
          -0.007967,
          -0.811876,
          -0.003684,
          0.27221,
          -0.003839,
          0.175357,
          -0.350178,
          0.016665,
          0.394178,
          0.715985,
          0.28994,
          0.854454,
          0.308424,
          -0.154151,
          0.042376,
          0.76406,
          0.273431,
          0.109072,
          -0.609027,
          0.563714,
          0.053112,
          0.374246,
          -0.25541,
          -0.05833,
          0.436804,
          -0.185927,
          -0.15729,
          -0.253287,
          0.856338,
          -0.448767,
          -0.763126,
          0.50729,
          -0.262387,
          0.638189,
          -0.715655,
          -0.148243,
          -0.436461,
          -0.015747,
          -0.380327,
          -0.078679,
          0.725907,
          -0.118512,
          0.378156,
          -0.646687,
          0.862612,
          0.58395,
          -0.106313,
          -0.447773,
          0.278688,
          -0.499959,
          0.628733,
          -0.550777,
          0.280057,
          -0.68149,
          -0.150402,
          -0.175775,
          0.40849,
          -0.687687,
          0.187892,
          0.40274,
          -0.333692,
          -0.073884,
          0.074276,
          -0.234023,
          0.33853,
          0.777033,
          0.093523,
          0.215945,
          -0.031152,
          0.26075,
          -0.542543,
          -0.306005,
          -0.114414,
          -0.749873,
          -0.108157,
          -0.410898,
          0.662499,
          -0.057589,
          0.64518,
          0.257191,
          -0.169119,
          0.228327,
          -0.512238,
          -0.510091,
          -0.001328,
          -0.086874,
          -0.558094,
          0.640575,
          0.033866,
          -0.530334,
          0.488731,
          -0.320178,
          0.143306,
          -0.36578,
          0.660425,
          0.647696,
          -0.110876,
          -0.694187,
          0.175738,
          0.396046,
          -0.406362,
          -0.299275,
          -0.506192
         ],
         "y": [
          0.027734,
          0.048211,
          -0.00908,
          -0.011876,
          -0.003813,
          0.068275,
          0.059849,
          0.013881,
          -0.059942,
          -0.036612,
          -0.04495,
          -0.049496,
          -0.005381,
          0.027976,
          0.062592,
          0.064646,
          -0.031446,
          -0.035324,
          -0.007045,
          0.049066,
          -0.033716,
          0.016895,
          -0.023085,
          0.054634,
          -0.062217,
          0.069586,
          0.012217,
          -0.009972,
          0.059835,
          -0.01526,
          -0.029135,
          -0.014786,
          0.490127,
          0.769746,
          -0.983118,
          -0.477796,
          -0.666039,
          0.175666,
          0.201051,
          0.012518,
          -0.41696,
          0.516665,
          0.184758,
          -0.371411,
          0.125884,
          0.784515,
          -0.039296,
          -0.206822,
          -0.015134,
          -0.262388,
          -0.476377,
          0.498033,
          0.787375,
          -0.8296,
          0.719728,
          0.322667,
          0.207763,
          -0.636281,
          -0.491739,
          -0.078753,
          -0.241459,
          0.362751,
          0.342837,
          -0.752408,
          0.919403,
          -0.017968,
          -0.22133,
          0.521163,
          -0.536953,
          -0.082401,
          0.458797,
          0.683901,
          0.017903,
          -0.684569,
          -0.502344,
          0.443179,
          -0.788934,
          -0.092462,
          0.777137,
          -0.601538,
          -0.540911,
          -0.162338,
          -0.220749,
          -0.045369,
          -0.25031,
          0.111547,
          -0.035719,
          0.286805,
          0.438496,
          0.308228,
          -0.111044,
          -0.074139,
          2.895371,
          3.067538,
          2.12925,
          3.055572,
          3.446317,
          3.285343,
          3.296888,
          2.657112,
          3.334167,
          3.706688,
          2.844335,
          3.634562,
          3.774495,
          3.491508,
          2.618886,
          3.548497,
          3.662073,
          2.91813,
          2.976918,
          2.460306,
          2.287469,
          3.107724,
          3.715249,
          2.515348,
          2.986915,
          2.772903,
          3.467443,
          2.60696,
          2.895231,
          3.293211,
          -2.382802,
          -3.013402,
          -2.974825,
          -3.549045,
          -2.872739,
          -2.316553,
          -2.668933,
          -3.69483,
          -3.881493,
          -2.573785,
          -3.539877,
          -2.849058,
          -2.83419,
          -3.035242,
          -2.355499,
          -2.928918,
          -2.892567,
          -3.121529,
          -3.69845,
          -2.7936,
          -2.885896,
          -3.174318,
          -2.348742,
          -3.189614,
          -3.601469,
          -2.120669,
          -2.969195,
          -2.642703,
          -2.391662,
          -3.742474,
          -0.257803,
          -0.257097,
          0.25262,
          0.539686,
          -0.165269,
          -0.67851,
          -0.102398,
          -0.136098,
          0.820583,
          -0.332023,
          -0.388565,
          0.774676,
          0.816718,
          -0.752991,
          0.5331,
          0.099277,
          0.309218,
          0.726125,
          0.856673,
          -0.44986,
          0.508787,
          -0.722352,
          0.217745,
          0.595698,
          -0.323846,
          0.385966,
          0.391448,
          0.386463,
          -0.915958,
          0.026251,
          0.616942,
          -0.083104,
          0.467216,
          -0.378195,
          0.548771,
          -0.276585,
          0.114881,
          0.400328,
          -0.513736,
          0.372109,
          -0.617806,
          0.275274,
          0.138084,
          -0.138533,
          -0.52869,
          0.301424,
          0.571733,
          0.68226,
          -0.530404,
          0.578726,
          -0.491918,
          -0.259537,
          0.44422,
          0.163359,
          0.258777,
          -0.053478,
          -0.858377,
          -0.334541,
          0.071281,
          0.433538
         ],
         "z": [
          0.022683,
          0.069198,
          0.053085,
          0.055324,
          0.001738,
          0.033462,
          -0.06326,
          -0.013236,
          -0.026487,
          0.047928,
          0.041474,
          -0.06343,
          -0.064899,
          0.01198,
          -0.057507,
          0.040856,
          -0.014774,
          -0.03906,
          0.078495,
          0.026958,
          0.011894,
          -0.09079,
          0.007996,
          0.032257,
          -0.018733,
          0.069452,
          0.040873,
          0.047962,
          0.025843,
          -0.023346,
          -0.011721,
          -0.00032,
          0.033581,
          -0.557435,
          -0.165216,
          0.370524,
          0.126169,
          -0.531892,
          0.58676,
          -0.761892,
          0.148884,
          -0.702665,
          0.482416,
          -0.673235,
          0.277346,
          -0.011033,
          0.066654,
          -0.263965,
          0.097093,
          -0.672982,
          0.051427,
          -0.382225,
          0.046041,
          -0.198249,
          -0.347704,
          0.25302,
          0.078446,
          -0.459655,
          0.382338,
          -0.660588,
          -0.143806,
          -0.669945,
          0.296855,
          -0.225828,
          -0.091698,
          0.097194,
          -0.410873,
          0.033068,
          -0.08933,
          -0.750346,
          -0.745681,
          -0.153258,
          0.703027,
          0.298511,
          0.245003,
          0.447541,
          -0.276868,
          0.719525,
          0.091226,
          0.548791,
          0.251193,
          0.427959,
          0.858853,
          0.497112,
          -0.26069,
          0.652847,
          0.357768,
          -0.843201,
          0.094013,
          -0.689706,
          0.022821,
          0.54136,
          0.786843,
          0.030236,
          0.320246,
          0.230617,
          -0.101455,
          0.278274,
          -0.174357,
          0.01996,
          0.068536,
          -0.259004,
          0.073905,
          0.613045,
          0.096256,
          -0.745843,
          0.576378,
          0.101766,
          -0.103739,
          0.390422,
          -0.40471,
          0.323449,
          -0.243128,
          -0.876719,
          0.344842,
          0.695052,
          -0.265349,
          0.583035,
          -0.171137,
          0.767379,
          -0.335877,
          -0.383773,
          -0.552876,
          0.26318,
          0.304909,
          0.602433,
          -0.972276,
          0.05604,
          0.272222,
          -0.446254,
          -0.178669,
          -0.369218,
          0.156878,
          -0.705822,
          -0.871306,
          -0.447355,
          0.53801,
          -0.105247,
          0.036684,
          0.012815,
          -0.126832,
          0.893868,
          -0.535134,
          -0.415442,
          -0.198939,
          -0.874082,
          0.678772,
          -0.201018,
          -0.085163,
          -0.392598,
          -0.116857,
          0.42604,
          2.879026,
          3.339622,
          3.164447,
          3.36243,
          2.395462,
          3.019065,
          2.918835,
          2.961669,
          2.888145,
          2.280202,
          2.852309,
          3.236697,
          2.810907,
          2.708342,
          2.864252,
          3.3971,
          2.184721,
          2.755337,
          3.449364,
          2.289555,
          2.627695,
          2.402052,
          2.671151,
          3.532532,
          2.195408,
          3.106696,
          2.176698,
          2.917456,
          2.884296,
          3.899389,
          -2.862605,
          -3.909294,
          -3.64399,
          -2.900845,
          -3.072026,
          -2.877792,
          -2.929682,
          -2.853299,
          -3.600658,
          -3.357134,
          -3.543896,
          -2.367165,
          -3.152736,
          -2.731829,
          -2.882579,
          -2.949164,
          -3.122279,
          -3.026392,
          -2.430535,
          -3.657507,
          -2.483666,
          -3.671958,
          -2.807808,
          -3.038903,
          -2.411717,
          -2.733752,
          -3.126866,
          -2.885598,
          -3.642585,
          -2.608597
         ]
        }
       ],
       "layout": {
        "coloraxis": {
         "colorbar": {
          "title": {
           "text": "Class"
          }
         },
         "colorscale": [
          [
           0,
           "#0d0887"
          ],
          [
           0.1111111111111111,
           "#46039f"
          ],
          [
           0.2222222222222222,
           "#7201a8"
          ],
          [
           0.3333333333333333,
           "#9c179e"
          ],
          [
           0.4444444444444444,
           "#bd3786"
          ],
          [
           0.5555555555555556,
           "#d8576b"
          ],
          [
           0.6666666666666666,
           "#ed7953"
          ],
          [
           0.7777777777777778,
           "#fb9f3a"
          ],
          [
           0.8888888888888888,
           "#fdca26"
          ],
          [
           1,
           "#f0f921"
          ]
         ]
        },
        "legend": {
         "tracegroupgap": 0
        },
        "margin": {
         "t": 60
        },
        "scene": {
         "domain": {
          "x": [
           0,
           1
          ],
          "y": [
           0,
           1
          ]
         },
         "xaxis": {
          "title": {
           "text": "X1"
          }
         },
         "yaxis": {
          "title": {
           "text": "X2"
          }
         },
         "zaxis": {
          "title": {
           "text": "X3"
          }
         }
        },
        "template": {
         "data": {
          "bar": [
           {
            "error_x": {
             "color": "#2a3f5f"
            },
            "error_y": {
             "color": "#2a3f5f"
            },
            "marker": {
             "line": {
              "color": "#E5ECF6",
              "width": 0.5
             },
             "pattern": {
              "fillmode": "overlay",
              "size": 10,
              "solidity": 0.2
             }
            },
            "type": "bar"
           }
          ],
          "barpolar": [
           {
            "marker": {
             "line": {
              "color": "#E5ECF6",
              "width": 0.5
             },
             "pattern": {
              "fillmode": "overlay",
              "size": 10,
              "solidity": 0.2
             }
            },
            "type": "barpolar"
           }
          ],
          "carpet": [
           {
            "aaxis": {
             "endlinecolor": "#2a3f5f",
             "gridcolor": "white",
             "linecolor": "white",
             "minorgridcolor": "white",
             "startlinecolor": "#2a3f5f"
            },
            "baxis": {
             "endlinecolor": "#2a3f5f",
             "gridcolor": "white",
             "linecolor": "white",
             "minorgridcolor": "white",
             "startlinecolor": "#2a3f5f"
            },
            "type": "carpet"
           }
          ],
          "choropleth": [
           {
            "colorbar": {
             "outlinewidth": 0,
             "ticks": ""
            },
            "type": "choropleth"
           }
          ],
          "contour": [
           {
            "colorbar": {
             "outlinewidth": 0,
             "ticks": ""
            },
            "colorscale": [
             [
              0,
              "#0d0887"
             ],
             [
              0.1111111111111111,
              "#46039f"
             ],
             [
              0.2222222222222222,
              "#7201a8"
             ],
             [
              0.3333333333333333,
              "#9c179e"
             ],
             [
              0.4444444444444444,
              "#bd3786"
             ],
             [
              0.5555555555555556,
              "#d8576b"
             ],
             [
              0.6666666666666666,
              "#ed7953"
             ],
             [
              0.7777777777777778,
              "#fb9f3a"
             ],
             [
              0.8888888888888888,
              "#fdca26"
             ],
             [
              1,
              "#f0f921"
             ]
            ],
            "type": "contour"
           }
          ],
          "contourcarpet": [
           {
            "colorbar": {
             "outlinewidth": 0,
             "ticks": ""
            },
            "type": "contourcarpet"
           }
          ],
          "heatmap": [
           {
            "colorbar": {
             "outlinewidth": 0,
             "ticks": ""
            },
            "colorscale": [
             [
              0,
              "#0d0887"
             ],
             [
              0.1111111111111111,
              "#46039f"
             ],
             [
              0.2222222222222222,
              "#7201a8"
             ],
             [
              0.3333333333333333,
              "#9c179e"
             ],
             [
              0.4444444444444444,
              "#bd3786"
             ],
             [
              0.5555555555555556,
              "#d8576b"
             ],
             [
              0.6666666666666666,
              "#ed7953"
             ],
             [
              0.7777777777777778,
              "#fb9f3a"
             ],
             [
              0.8888888888888888,
              "#fdca26"
             ],
             [
              1,
              "#f0f921"
             ]
            ],
            "type": "heatmap"
           }
          ],
          "heatmapgl": [
           {
            "colorbar": {
             "outlinewidth": 0,
             "ticks": ""
            },
            "colorscale": [
             [
              0,
              "#0d0887"
             ],
             [
              0.1111111111111111,
              "#46039f"
             ],
             [
              0.2222222222222222,
              "#7201a8"
             ],
             [
              0.3333333333333333,
              "#9c179e"
             ],
             [
              0.4444444444444444,
              "#bd3786"
             ],
             [
              0.5555555555555556,
              "#d8576b"
             ],
             [
              0.6666666666666666,
              "#ed7953"
             ],
             [
              0.7777777777777778,
              "#fb9f3a"
             ],
             [
              0.8888888888888888,
              "#fdca26"
             ],
             [
              1,
              "#f0f921"
             ]
            ],
            "type": "heatmapgl"
           }
          ],
          "histogram": [
           {
            "marker": {
             "pattern": {
              "fillmode": "overlay",
              "size": 10,
              "solidity": 0.2
             }
            },
            "type": "histogram"
           }
          ],
          "histogram2d": [
           {
            "colorbar": {
             "outlinewidth": 0,
             "ticks": ""
            },
            "colorscale": [
             [
              0,
              "#0d0887"
             ],
             [
              0.1111111111111111,
              "#46039f"
             ],
             [
              0.2222222222222222,
              "#7201a8"
             ],
             [
              0.3333333333333333,
              "#9c179e"
             ],
             [
              0.4444444444444444,
              "#bd3786"
             ],
             [
              0.5555555555555556,
              "#d8576b"
             ],
             [
              0.6666666666666666,
              "#ed7953"
             ],
             [
              0.7777777777777778,
              "#fb9f3a"
             ],
             [
              0.8888888888888888,
              "#fdca26"
             ],
             [
              1,
              "#f0f921"
             ]
            ],
            "type": "histogram2d"
           }
          ],
          "histogram2dcontour": [
           {
            "colorbar": {
             "outlinewidth": 0,
             "ticks": ""
            },
            "colorscale": [
             [
              0,
              "#0d0887"
             ],
             [
              0.1111111111111111,
              "#46039f"
             ],
             [
              0.2222222222222222,
              "#7201a8"
             ],
             [
              0.3333333333333333,
              "#9c179e"
             ],
             [
              0.4444444444444444,
              "#bd3786"
             ],
             [
              0.5555555555555556,
              "#d8576b"
             ],
             [
              0.6666666666666666,
              "#ed7953"
             ],
             [
              0.7777777777777778,
              "#fb9f3a"
             ],
             [
              0.8888888888888888,
              "#fdca26"
             ],
             [
              1,
              "#f0f921"
             ]
            ],
            "type": "histogram2dcontour"
           }
          ],
          "mesh3d": [
           {
            "colorbar": {
             "outlinewidth": 0,
             "ticks": ""
            },
            "type": "mesh3d"
           }
          ],
          "parcoords": [
           {
            "line": {
             "colorbar": {
              "outlinewidth": 0,
              "ticks": ""
             }
            },
            "type": "parcoords"
           }
          ],
          "pie": [
           {
            "automargin": true,
            "type": "pie"
           }
          ],
          "scatter": [
           {
            "marker": {
             "colorbar": {
              "outlinewidth": 0,
              "ticks": ""
             }
            },
            "type": "scatter"
           }
          ],
          "scatter3d": [
           {
            "line": {
             "colorbar": {
              "outlinewidth": 0,
              "ticks": ""
             }
            },
            "marker": {
             "colorbar": {
              "outlinewidth": 0,
              "ticks": ""
             }
            },
            "type": "scatter3d"
           }
          ],
          "scattercarpet": [
           {
            "marker": {
             "colorbar": {
              "outlinewidth": 0,
              "ticks": ""
             }
            },
            "type": "scattercarpet"
           }
          ],
          "scattergeo": [
           {
            "marker": {
             "colorbar": {
              "outlinewidth": 0,
              "ticks": ""
             }
            },
            "type": "scattergeo"
           }
          ],
          "scattergl": [
           {
            "marker": {
             "colorbar": {
              "outlinewidth": 0,
              "ticks": ""
             }
            },
            "type": "scattergl"
           }
          ],
          "scattermapbox": [
           {
            "marker": {
             "colorbar": {
              "outlinewidth": 0,
              "ticks": ""
             }
            },
            "type": "scattermapbox"
           }
          ],
          "scatterpolar": [
           {
            "marker": {
             "colorbar": {
              "outlinewidth": 0,
              "ticks": ""
             }
            },
            "type": "scatterpolar"
           }
          ],
          "scatterpolargl": [
           {
            "marker": {
             "colorbar": {
              "outlinewidth": 0,
              "ticks": ""
             }
            },
            "type": "scatterpolargl"
           }
          ],
          "scatterternary": [
           {
            "marker": {
             "colorbar": {
              "outlinewidth": 0,
              "ticks": ""
             }
            },
            "type": "scatterternary"
           }
          ],
          "surface": [
           {
            "colorbar": {
             "outlinewidth": 0,
             "ticks": ""
            },
            "colorscale": [
             [
              0,
              "#0d0887"
             ],
             [
              0.1111111111111111,
              "#46039f"
             ],
             [
              0.2222222222222222,
              "#7201a8"
             ],
             [
              0.3333333333333333,
              "#9c179e"
             ],
             [
              0.4444444444444444,
              "#bd3786"
             ],
             [
              0.5555555555555556,
              "#d8576b"
             ],
             [
              0.6666666666666666,
              "#ed7953"
             ],
             [
              0.7777777777777778,
              "#fb9f3a"
             ],
             [
              0.8888888888888888,
              "#fdca26"
             ],
             [
              1,
              "#f0f921"
             ]
            ],
            "type": "surface"
           }
          ],
          "table": [
           {
            "cells": {
             "fill": {
              "color": "#EBF0F8"
             },
             "line": {
              "color": "white"
             }
            },
            "header": {
             "fill": {
              "color": "#C8D4E3"
             },
             "line": {
              "color": "white"
             }
            },
            "type": "table"
           }
          ]
         },
         "layout": {
          "annotationdefaults": {
           "arrowcolor": "#2a3f5f",
           "arrowhead": 0,
           "arrowwidth": 1
          },
          "autotypenumbers": "strict",
          "coloraxis": {
           "colorbar": {
            "outlinewidth": 0,
            "ticks": ""
           }
          },
          "colorscale": {
           "diverging": [
            [
             0,
             "#8e0152"
            ],
            [
             0.1,
             "#c51b7d"
            ],
            [
             0.2,
             "#de77ae"
            ],
            [
             0.3,
             "#f1b6da"
            ],
            [
             0.4,
             "#fde0ef"
            ],
            [
             0.5,
             "#f7f7f7"
            ],
            [
             0.6,
             "#e6f5d0"
            ],
            [
             0.7,
             "#b8e186"
            ],
            [
             0.8,
             "#7fbc41"
            ],
            [
             0.9,
             "#4d9221"
            ],
            [
             1,
             "#276419"
            ]
           ],
           "sequential": [
            [
             0,
             "#0d0887"
            ],
            [
             0.1111111111111111,
             "#46039f"
            ],
            [
             0.2222222222222222,
             "#7201a8"
            ],
            [
             0.3333333333333333,
             "#9c179e"
            ],
            [
             0.4444444444444444,
             "#bd3786"
            ],
            [
             0.5555555555555556,
             "#d8576b"
            ],
            [
             0.6666666666666666,
             "#ed7953"
            ],
            [
             0.7777777777777778,
             "#fb9f3a"
            ],
            [
             0.8888888888888888,
             "#fdca26"
            ],
            [
             1,
             "#f0f921"
            ]
           ],
           "sequentialminus": [
            [
             0,
             "#0d0887"
            ],
            [
             0.1111111111111111,
             "#46039f"
            ],
            [
             0.2222222222222222,
             "#7201a8"
            ],
            [
             0.3333333333333333,
             "#9c179e"
            ],
            [
             0.4444444444444444,
             "#bd3786"
            ],
            [
             0.5555555555555556,
             "#d8576b"
            ],
            [
             0.6666666666666666,
             "#ed7953"
            ],
            [
             0.7777777777777778,
             "#fb9f3a"
            ],
            [
             0.8888888888888888,
             "#fdca26"
            ],
            [
             1,
             "#f0f921"
            ]
           ]
          },
          "colorway": [
           "#636efa",
           "#EF553B",
           "#00cc96",
           "#ab63fa",
           "#FFA15A",
           "#19d3f3",
           "#FF6692",
           "#B6E880",
           "#FF97FF",
           "#FECB52"
          ],
          "font": {
           "color": "#2a3f5f"
          },
          "geo": {
           "bgcolor": "white",
           "lakecolor": "white",
           "landcolor": "#E5ECF6",
           "showlakes": true,
           "showland": true,
           "subunitcolor": "white"
          },
          "hoverlabel": {
           "align": "left"
          },
          "hovermode": "closest",
          "mapbox": {
           "style": "light"
          },
          "paper_bgcolor": "white",
          "plot_bgcolor": "#E5ECF6",
          "polar": {
           "angularaxis": {
            "gridcolor": "white",
            "linecolor": "white",
            "ticks": ""
           },
           "bgcolor": "#E5ECF6",
           "radialaxis": {
            "gridcolor": "white",
            "linecolor": "white",
            "ticks": ""
           }
          },
          "scene": {
           "xaxis": {
            "backgroundcolor": "#E5ECF6",
            "gridcolor": "white",
            "gridwidth": 2,
            "linecolor": "white",
            "showbackground": true,
            "ticks": "",
            "zerolinecolor": "white"
           },
           "yaxis": {
            "backgroundcolor": "#E5ECF6",
            "gridcolor": "white",
            "gridwidth": 2,
            "linecolor": "white",
            "showbackground": true,
            "ticks": "",
            "zerolinecolor": "white"
           },
           "zaxis": {
            "backgroundcolor": "#E5ECF6",
            "gridcolor": "white",
            "gridwidth": 2,
            "linecolor": "white",
            "showbackground": true,
            "ticks": "",
            "zerolinecolor": "white"
           }
          },
          "shapedefaults": {
           "line": {
            "color": "#2a3f5f"
           }
          },
          "ternary": {
           "aaxis": {
            "gridcolor": "white",
            "linecolor": "white",
            "ticks": ""
           },
           "baxis": {
            "gridcolor": "white",
            "linecolor": "white",
            "ticks": ""
           },
           "bgcolor": "#E5ECF6",
           "caxis": {
            "gridcolor": "white",
            "linecolor": "white",
            "ticks": ""
           }
          },
          "title": {
           "x": 0.05
          },
          "xaxis": {
           "automargin": true,
           "gridcolor": "white",
           "linecolor": "white",
           "ticks": "",
           "title": {
            "standoff": 15
           },
           "zerolinecolor": "white",
           "zerolinewidth": 2
          },
          "yaxis": {
           "automargin": true,
           "gridcolor": "white",
           "linecolor": "white",
           "ticks": "",
           "title": {
            "standoff": 15
           },
           "zerolinecolor": "white",
           "zerolinewidth": 2
          }
         }
        }
       }
      },
      "text/html": [
       "<div>                            <div id=\"033ccfdb-21c2-41aa-96d3-209263ae3e59\" class=\"plotly-graph-div\" style=\"height:525px; width:100%;\"></div>            <script type=\"text/javascript\">                require([\"plotly\"], function(Plotly) {                    window.PLOTLYENV=window.PLOTLYENV || {};                                    if (document.getElementById(\"033ccfdb-21c2-41aa-96d3-209263ae3e59\")) {                    Plotly.newPlot(                        \"033ccfdb-21c2-41aa-96d3-209263ae3e59\",                        [{\"hovertemplate\":\"X1=%{x}<br>X2=%{y}<br>X3=%{z}<br>Class=%{marker.color}<extra></extra>\",\"legendgroup\":\"\",\"marker\":{\"color\":[4,4,4,4,4,4,4,4,4,4,4,4,4,4,4,4,4,4,4,4,4,4,4,4,4,4,4,4,4,4,4,4,2,2,2,2,2,2,2,2,2,2,2,2,2,2,2,2,2,2,2,2,2,2,2,2,2,2,2,2,2,2,3,3,3,3,3,3,3,3,3,3,3,3,3,3,3,3,3,3,3,3,3,3,3,3,3,3,3,3,3,3,1,1,1,1,1,1,1,1,1,1,1,1,1,1,1,1,1,1,1,1,1,1,1,1,1,1,1,1,1,1,0,0,0,0,0,0,0,0,0,0,0,0,0,0,0,0,0,0,0,0,0,0,0,0,0,0,0,0,0,0,5,5,5,5,5,5,5,5,5,5,5,5,5,5,5,5,5,5,5,5,5,5,5,5,5,5,5,5,5,5,6,6,6,6,6,6,6,6,6,6,6,6,6,6,6,6,6,6,6,6,6,6,6,6,6,6,6,6,6,6],\"coloraxis\":\"coloraxis\",\"symbol\":\"circle\"},\"mode\":\"markers\",\"name\":\"\",\"scene\":\"scene\",\"showlegend\":false,\"x\":[-0.063274,-0.000731,-0.060767,0.013252,-0.054508,0.02418,-0.029308,-0.016453,-0.042361,-0.01631,0.03536,-0.000287,-0.065931,0.009049,-0.005335,-0.004175,0.091024,-0.077068,0.05515,-0.033779,0.044954,0.008785,-0.061655,-0.051274,0.04421,-0.003343,-0.064487,0.042168,-0.061495,0.071795,0.058733,0.078178,2.418463,2.805184,2.983722,3.055291,3.015527,2.449981,3.199806,3.266405,3.74771,3.411849,3.733854,3.59214,3.59351,2.387269,3.423791,2.425059,2.407337,2.923991,3.188203,2.377023,2.610067,2.918826,2.932853,3.47194,3.266172,2.916963,3.020822,2.844004,2.826876,2.771511,-2.69712,-2.57583,-3.308062,-3.970394,-3.332026,-2.679173,-2.186732,-3.013009,-3.464085,-2.632916,-3.315788,-2.833584,-2.722148,-2.608905,-2.853364,-2.809655,-3.538035,-2.457811,-2.762541,-2.929594,-3.054864,-3.632051,-3.595796,-2.285053,-2.664311,-3.163578,-2.599157,-3.381994,-3.961031,-2.827045,0.498135,0.218436,0.135451,0.420118,0.659865,0.619487,-0.294208,-0.362217,-0.561919,0.186843,0.450086,-0.047549,0.432449,0.444504,-0.116409,-0.601582,0.268449,-0.007967,-0.811876,-0.003684,0.27221,-0.003839,0.175357,-0.350178,0.016665,0.394178,0.715985,0.28994,0.854454,0.308424,-0.154151,0.042376,0.76406,0.273431,0.109072,-0.609027,0.563714,0.053112,0.374246,-0.25541,-0.05833,0.436804,-0.185927,-0.15729,-0.253287,0.856338,-0.448767,-0.763126,0.50729,-0.262387,0.638189,-0.715655,-0.148243,-0.436461,-0.015747,-0.380327,-0.078679,0.725907,-0.118512,0.378156,-0.646687,0.862612,0.58395,-0.106313,-0.447773,0.278688,-0.499959,0.628733,-0.550777,0.280057,-0.68149,-0.150402,-0.175775,0.40849,-0.687687,0.187892,0.40274,-0.333692,-0.073884,0.074276,-0.234023,0.33853,0.777033,0.093523,0.215945,-0.031152,0.26075,-0.542543,-0.306005,-0.114414,-0.749873,-0.108157,-0.410898,0.662499,-0.057589,0.64518,0.257191,-0.169119,0.228327,-0.512238,-0.510091,-0.001328,-0.086874,-0.558094,0.640575,0.033866,-0.530334,0.488731,-0.320178,0.143306,-0.36578,0.660425,0.647696,-0.110876,-0.694187,0.175738,0.396046,-0.406362,-0.299275,-0.506192],\"y\":[0.027734,0.048211,-0.00908,-0.011876,-0.003813,0.068275,0.059849,0.013881,-0.059942,-0.036612,-0.04495,-0.049496,-0.005381,0.027976,0.062592,0.064646,-0.031446,-0.035324,-0.007045,0.049066,-0.033716,0.016895,-0.023085,0.054634,-0.062217,0.069586,0.012217,-0.009972,0.059835,-0.01526,-0.029135,-0.014786,0.490127,0.769746,-0.983118,-0.477796,-0.666039,0.175666,0.201051,0.012518,-0.41696,0.516665,0.184758,-0.371411,0.125884,0.784515,-0.039296,-0.206822,-0.015134,-0.262388,-0.476377,0.498033,0.787375,-0.8296,0.719728,0.322667,0.207763,-0.636281,-0.491739,-0.078753,-0.241459,0.362751,0.342837,-0.752408,0.919403,-0.017968,-0.22133,0.521163,-0.536953,-0.082401,0.458797,0.683901,0.017903,-0.684569,-0.502344,0.443179,-0.788934,-0.092462,0.777137,-0.601538,-0.540911,-0.162338,-0.220749,-0.045369,-0.25031,0.111547,-0.035719,0.286805,0.438496,0.308228,-0.111044,-0.074139,2.895371,3.067538,2.12925,3.055572,3.446317,3.285343,3.296888,2.657112,3.334167,3.706688,2.844335,3.634562,3.774495,3.491508,2.618886,3.548497,3.662073,2.91813,2.976918,2.460306,2.287469,3.107724,3.715249,2.515348,2.986915,2.772903,3.467443,2.60696,2.895231,3.293211,-2.382802,-3.013402,-2.974825,-3.549045,-2.872739,-2.316553,-2.668933,-3.69483,-3.881493,-2.573785,-3.539877,-2.849058,-2.83419,-3.035242,-2.355499,-2.928918,-2.892567,-3.121529,-3.69845,-2.7936,-2.885896,-3.174318,-2.348742,-3.189614,-3.601469,-2.120669,-2.969195,-2.642703,-2.391662,-3.742474,-0.257803,-0.257097,0.25262,0.539686,-0.165269,-0.67851,-0.102398,-0.136098,0.820583,-0.332023,-0.388565,0.774676,0.816718,-0.752991,0.5331,0.099277,0.309218,0.726125,0.856673,-0.44986,0.508787,-0.722352,0.217745,0.595698,-0.323846,0.385966,0.391448,0.386463,-0.915958,0.026251,0.616942,-0.083104,0.467216,-0.378195,0.548771,-0.276585,0.114881,0.400328,-0.513736,0.372109,-0.617806,0.275274,0.138084,-0.138533,-0.52869,0.301424,0.571733,0.68226,-0.530404,0.578726,-0.491918,-0.259537,0.44422,0.163359,0.258777,-0.053478,-0.858377,-0.334541,0.071281,0.433538],\"z\":[0.022683,0.069198,0.053085,0.055324,0.001738,0.033462,-0.06326,-0.013236,-0.026487,0.047928,0.041474,-0.06343,-0.064899,0.01198,-0.057507,0.040856,-0.014774,-0.03906,0.078495,0.026958,0.011894,-0.09079,0.007996,0.032257,-0.018733,0.069452,0.040873,0.047962,0.025843,-0.023346,-0.011721,-0.00032,0.033581,-0.557435,-0.165216,0.370524,0.126169,-0.531892,0.58676,-0.761892,0.148884,-0.702665,0.482416,-0.673235,0.277346,-0.011033,0.066654,-0.263965,0.097093,-0.672982,0.051427,-0.382225,0.046041,-0.198249,-0.347704,0.25302,0.078446,-0.459655,0.382338,-0.660588,-0.143806,-0.669945,0.296855,-0.225828,-0.091698,0.097194,-0.410873,0.033068,-0.08933,-0.750346,-0.745681,-0.153258,0.703027,0.298511,0.245003,0.447541,-0.276868,0.719525,0.091226,0.548791,0.251193,0.427959,0.858853,0.497112,-0.26069,0.652847,0.357768,-0.843201,0.094013,-0.689706,0.022821,0.54136,0.786843,0.030236,0.320246,0.230617,-0.101455,0.278274,-0.174357,0.01996,0.068536,-0.259004,0.073905,0.613045,0.096256,-0.745843,0.576378,0.101766,-0.103739,0.390422,-0.40471,0.323449,-0.243128,-0.876719,0.344842,0.695052,-0.265349,0.583035,-0.171137,0.767379,-0.335877,-0.383773,-0.552876,0.26318,0.304909,0.602433,-0.972276,0.05604,0.272222,-0.446254,-0.178669,-0.369218,0.156878,-0.705822,-0.871306,-0.447355,0.53801,-0.105247,0.036684,0.012815,-0.126832,0.893868,-0.535134,-0.415442,-0.198939,-0.874082,0.678772,-0.201018,-0.085163,-0.392598,-0.116857,0.42604,2.879026,3.339622,3.164447,3.36243,2.395462,3.019065,2.918835,2.961669,2.888145,2.280202,2.852309,3.236697,2.810907,2.708342,2.864252,3.3971,2.184721,2.755337,3.449364,2.289555,2.627695,2.402052,2.671151,3.532532,2.195408,3.106696,2.176698,2.917456,2.884296,3.899389,-2.862605,-3.909294,-3.64399,-2.900845,-3.072026,-2.877792,-2.929682,-2.853299,-3.600658,-3.357134,-3.543896,-2.367165,-3.152736,-2.731829,-2.882579,-2.949164,-3.122279,-3.026392,-2.430535,-3.657507,-2.483666,-3.671958,-2.807808,-3.038903,-2.411717,-2.733752,-3.126866,-2.885598,-3.642585,-2.608597],\"type\":\"scatter3d\"}],                        {\"template\":{\"data\":{\"bar\":[{\"error_x\":{\"color\":\"#2a3f5f\"},\"error_y\":{\"color\":\"#2a3f5f\"},\"marker\":{\"line\":{\"color\":\"#E5ECF6\",\"width\":0.5},\"pattern\":{\"fillmode\":\"overlay\",\"size\":10,\"solidity\":0.2}},\"type\":\"bar\"}],\"barpolar\":[{\"marker\":{\"line\":{\"color\":\"#E5ECF6\",\"width\":0.5},\"pattern\":{\"fillmode\":\"overlay\",\"size\":10,\"solidity\":0.2}},\"type\":\"barpolar\"}],\"carpet\":[{\"aaxis\":{\"endlinecolor\":\"#2a3f5f\",\"gridcolor\":\"white\",\"linecolor\":\"white\",\"minorgridcolor\":\"white\",\"startlinecolor\":\"#2a3f5f\"},\"baxis\":{\"endlinecolor\":\"#2a3f5f\",\"gridcolor\":\"white\",\"linecolor\":\"white\",\"minorgridcolor\":\"white\",\"startlinecolor\":\"#2a3f5f\"},\"type\":\"carpet\"}],\"choropleth\":[{\"colorbar\":{\"outlinewidth\":0,\"ticks\":\"\"},\"type\":\"choropleth\"}],\"contour\":[{\"colorbar\":{\"outlinewidth\":0,\"ticks\":\"\"},\"colorscale\":[[0.0,\"#0d0887\"],[0.1111111111111111,\"#46039f\"],[0.2222222222222222,\"#7201a8\"],[0.3333333333333333,\"#9c179e\"],[0.4444444444444444,\"#bd3786\"],[0.5555555555555556,\"#d8576b\"],[0.6666666666666666,\"#ed7953\"],[0.7777777777777778,\"#fb9f3a\"],[0.8888888888888888,\"#fdca26\"],[1.0,\"#f0f921\"]],\"type\":\"contour\"}],\"contourcarpet\":[{\"colorbar\":{\"outlinewidth\":0,\"ticks\":\"\"},\"type\":\"contourcarpet\"}],\"heatmap\":[{\"colorbar\":{\"outlinewidth\":0,\"ticks\":\"\"},\"colorscale\":[[0.0,\"#0d0887\"],[0.1111111111111111,\"#46039f\"],[0.2222222222222222,\"#7201a8\"],[0.3333333333333333,\"#9c179e\"],[0.4444444444444444,\"#bd3786\"],[0.5555555555555556,\"#d8576b\"],[0.6666666666666666,\"#ed7953\"],[0.7777777777777778,\"#fb9f3a\"],[0.8888888888888888,\"#fdca26\"],[1.0,\"#f0f921\"]],\"type\":\"heatmap\"}],\"heatmapgl\":[{\"colorbar\":{\"outlinewidth\":0,\"ticks\":\"\"},\"colorscale\":[[0.0,\"#0d0887\"],[0.1111111111111111,\"#46039f\"],[0.2222222222222222,\"#7201a8\"],[0.3333333333333333,\"#9c179e\"],[0.4444444444444444,\"#bd3786\"],[0.5555555555555556,\"#d8576b\"],[0.6666666666666666,\"#ed7953\"],[0.7777777777777778,\"#fb9f3a\"],[0.8888888888888888,\"#fdca26\"],[1.0,\"#f0f921\"]],\"type\":\"heatmapgl\"}],\"histogram\":[{\"marker\":{\"pattern\":{\"fillmode\":\"overlay\",\"size\":10,\"solidity\":0.2}},\"type\":\"histogram\"}],\"histogram2d\":[{\"colorbar\":{\"outlinewidth\":0,\"ticks\":\"\"},\"colorscale\":[[0.0,\"#0d0887\"],[0.1111111111111111,\"#46039f\"],[0.2222222222222222,\"#7201a8\"],[0.3333333333333333,\"#9c179e\"],[0.4444444444444444,\"#bd3786\"],[0.5555555555555556,\"#d8576b\"],[0.6666666666666666,\"#ed7953\"],[0.7777777777777778,\"#fb9f3a\"],[0.8888888888888888,\"#fdca26\"],[1.0,\"#f0f921\"]],\"type\":\"histogram2d\"}],\"histogram2dcontour\":[{\"colorbar\":{\"outlinewidth\":0,\"ticks\":\"\"},\"colorscale\":[[0.0,\"#0d0887\"],[0.1111111111111111,\"#46039f\"],[0.2222222222222222,\"#7201a8\"],[0.3333333333333333,\"#9c179e\"],[0.4444444444444444,\"#bd3786\"],[0.5555555555555556,\"#d8576b\"],[0.6666666666666666,\"#ed7953\"],[0.7777777777777778,\"#fb9f3a\"],[0.8888888888888888,\"#fdca26\"],[1.0,\"#f0f921\"]],\"type\":\"histogram2dcontour\"}],\"mesh3d\":[{\"colorbar\":{\"outlinewidth\":0,\"ticks\":\"\"},\"type\":\"mesh3d\"}],\"parcoords\":[{\"line\":{\"colorbar\":{\"outlinewidth\":0,\"ticks\":\"\"}},\"type\":\"parcoords\"}],\"pie\":[{\"automargin\":true,\"type\":\"pie\"}],\"scatter\":[{\"marker\":{\"colorbar\":{\"outlinewidth\":0,\"ticks\":\"\"}},\"type\":\"scatter\"}],\"scatter3d\":[{\"line\":{\"colorbar\":{\"outlinewidth\":0,\"ticks\":\"\"}},\"marker\":{\"colorbar\":{\"outlinewidth\":0,\"ticks\":\"\"}},\"type\":\"scatter3d\"}],\"scattercarpet\":[{\"marker\":{\"colorbar\":{\"outlinewidth\":0,\"ticks\":\"\"}},\"type\":\"scattercarpet\"}],\"scattergeo\":[{\"marker\":{\"colorbar\":{\"outlinewidth\":0,\"ticks\":\"\"}},\"type\":\"scattergeo\"}],\"scattergl\":[{\"marker\":{\"colorbar\":{\"outlinewidth\":0,\"ticks\":\"\"}},\"type\":\"scattergl\"}],\"scattermapbox\":[{\"marker\":{\"colorbar\":{\"outlinewidth\":0,\"ticks\":\"\"}},\"type\":\"scattermapbox\"}],\"scatterpolar\":[{\"marker\":{\"colorbar\":{\"outlinewidth\":0,\"ticks\":\"\"}},\"type\":\"scatterpolar\"}],\"scatterpolargl\":[{\"marker\":{\"colorbar\":{\"outlinewidth\":0,\"ticks\":\"\"}},\"type\":\"scatterpolargl\"}],\"scatterternary\":[{\"marker\":{\"colorbar\":{\"outlinewidth\":0,\"ticks\":\"\"}},\"type\":\"scatterternary\"}],\"surface\":[{\"colorbar\":{\"outlinewidth\":0,\"ticks\":\"\"},\"colorscale\":[[0.0,\"#0d0887\"],[0.1111111111111111,\"#46039f\"],[0.2222222222222222,\"#7201a8\"],[0.3333333333333333,\"#9c179e\"],[0.4444444444444444,\"#bd3786\"],[0.5555555555555556,\"#d8576b\"],[0.6666666666666666,\"#ed7953\"],[0.7777777777777778,\"#fb9f3a\"],[0.8888888888888888,\"#fdca26\"],[1.0,\"#f0f921\"]],\"type\":\"surface\"}],\"table\":[{\"cells\":{\"fill\":{\"color\":\"#EBF0F8\"},\"line\":{\"color\":\"white\"}},\"header\":{\"fill\":{\"color\":\"#C8D4E3\"},\"line\":{\"color\":\"white\"}},\"type\":\"table\"}]},\"layout\":{\"annotationdefaults\":{\"arrowcolor\":\"#2a3f5f\",\"arrowhead\":0,\"arrowwidth\":1},\"autotypenumbers\":\"strict\",\"coloraxis\":{\"colorbar\":{\"outlinewidth\":0,\"ticks\":\"\"}},\"colorscale\":{\"diverging\":[[0,\"#8e0152\"],[0.1,\"#c51b7d\"],[0.2,\"#de77ae\"],[0.3,\"#f1b6da\"],[0.4,\"#fde0ef\"],[0.5,\"#f7f7f7\"],[0.6,\"#e6f5d0\"],[0.7,\"#b8e186\"],[0.8,\"#7fbc41\"],[0.9,\"#4d9221\"],[1,\"#276419\"]],\"sequential\":[[0.0,\"#0d0887\"],[0.1111111111111111,\"#46039f\"],[0.2222222222222222,\"#7201a8\"],[0.3333333333333333,\"#9c179e\"],[0.4444444444444444,\"#bd3786\"],[0.5555555555555556,\"#d8576b\"],[0.6666666666666666,\"#ed7953\"],[0.7777777777777778,\"#fb9f3a\"],[0.8888888888888888,\"#fdca26\"],[1.0,\"#f0f921\"]],\"sequentialminus\":[[0.0,\"#0d0887\"],[0.1111111111111111,\"#46039f\"],[0.2222222222222222,\"#7201a8\"],[0.3333333333333333,\"#9c179e\"],[0.4444444444444444,\"#bd3786\"],[0.5555555555555556,\"#d8576b\"],[0.6666666666666666,\"#ed7953\"],[0.7777777777777778,\"#fb9f3a\"],[0.8888888888888888,\"#fdca26\"],[1.0,\"#f0f921\"]]},\"colorway\":[\"#636efa\",\"#EF553B\",\"#00cc96\",\"#ab63fa\",\"#FFA15A\",\"#19d3f3\",\"#FF6692\",\"#B6E880\",\"#FF97FF\",\"#FECB52\"],\"font\":{\"color\":\"#2a3f5f\"},\"geo\":{\"bgcolor\":\"white\",\"lakecolor\":\"white\",\"landcolor\":\"#E5ECF6\",\"showlakes\":true,\"showland\":true,\"subunitcolor\":\"white\"},\"hoverlabel\":{\"align\":\"left\"},\"hovermode\":\"closest\",\"mapbox\":{\"style\":\"light\"},\"paper_bgcolor\":\"white\",\"plot_bgcolor\":\"#E5ECF6\",\"polar\":{\"angularaxis\":{\"gridcolor\":\"white\",\"linecolor\":\"white\",\"ticks\":\"\"},\"bgcolor\":\"#E5ECF6\",\"radialaxis\":{\"gridcolor\":\"white\",\"linecolor\":\"white\",\"ticks\":\"\"}},\"scene\":{\"xaxis\":{\"backgroundcolor\":\"#E5ECF6\",\"gridcolor\":\"white\",\"gridwidth\":2,\"linecolor\":\"white\",\"showbackground\":true,\"ticks\":\"\",\"zerolinecolor\":\"white\"},\"yaxis\":{\"backgroundcolor\":\"#E5ECF6\",\"gridcolor\":\"white\",\"gridwidth\":2,\"linecolor\":\"white\",\"showbackground\":true,\"ticks\":\"\",\"zerolinecolor\":\"white\"},\"zaxis\":{\"backgroundcolor\":\"#E5ECF6\",\"gridcolor\":\"white\",\"gridwidth\":2,\"linecolor\":\"white\",\"showbackground\":true,\"ticks\":\"\",\"zerolinecolor\":\"white\"}},\"shapedefaults\":{\"line\":{\"color\":\"#2a3f5f\"}},\"ternary\":{\"aaxis\":{\"gridcolor\":\"white\",\"linecolor\":\"white\",\"ticks\":\"\"},\"baxis\":{\"gridcolor\":\"white\",\"linecolor\":\"white\",\"ticks\":\"\"},\"bgcolor\":\"#E5ECF6\",\"caxis\":{\"gridcolor\":\"white\",\"linecolor\":\"white\",\"ticks\":\"\"}},\"title\":{\"x\":0.05},\"xaxis\":{\"automargin\":true,\"gridcolor\":\"white\",\"linecolor\":\"white\",\"ticks\":\"\",\"title\":{\"standoff\":15},\"zerolinecolor\":\"white\",\"zerolinewidth\":2},\"yaxis\":{\"automargin\":true,\"gridcolor\":\"white\",\"linecolor\":\"white\",\"ticks\":\"\",\"title\":{\"standoff\":15},\"zerolinecolor\":\"white\",\"zerolinewidth\":2}}},\"scene\":{\"domain\":{\"x\":[0.0,1.0],\"y\":[0.0,1.0]},\"xaxis\":{\"title\":{\"text\":\"X1\"}},\"yaxis\":{\"title\":{\"text\":\"X2\"}},\"zaxis\":{\"title\":{\"text\":\"X3\"}}},\"coloraxis\":{\"colorbar\":{\"title\":{\"text\":\"Class\"}},\"colorscale\":[[0.0,\"#0d0887\"],[0.1111111111111111,\"#46039f\"],[0.2222222222222222,\"#7201a8\"],[0.3333333333333333,\"#9c179e\"],[0.4444444444444444,\"#bd3786\"],[0.5555555555555556,\"#d8576b\"],[0.6666666666666666,\"#ed7953\"],[0.7777777777777778,\"#fb9f3a\"],[0.8888888888888888,\"#fdca26\"],[1.0,\"#f0f921\"]]},\"legend\":{\"tracegroupgap\":0},\"margin\":{\"t\":60}},                        {\"responsive\": true}                    ).then(function(){\n",
       "                            \n",
       "var gd = document.getElementById('033ccfdb-21c2-41aa-96d3-209263ae3e59');\n",
       "var x = new MutationObserver(function (mutations, observer) {{\n",
       "        var display = window.getComputedStyle(gd).display;\n",
       "        if (!display || display === 'none') {{\n",
       "            console.log([gd, 'removed!']);\n",
       "            Plotly.purge(gd);\n",
       "            observer.disconnect();\n",
       "        }}\n",
       "}});\n",
       "\n",
       "// Listen for the removal of the full notebook cells\n",
       "var notebookContainer = gd.closest('#notebook-container');\n",
       "if (notebookContainer) {{\n",
       "    x.observe(notebookContainer, {childList: true});\n",
       "}}\n",
       "\n",
       "// Listen for the clearing of the current output cell\n",
       "var outputEl = gd.closest('.output');\n",
       "if (outputEl) {{\n",
       "    x.observe(outputEl, {childList: true});\n",
       "}}\n",
       "\n",
       "                        })                };                });            </script>        </div>"
      ]
     },
     "metadata": {},
     "output_type": "display_data"
    }
   ],
   "source": [
    "df_data1_predicted=df_data1.iloc[:,0:3]\n",
    "df_data1_predicted['Class']= model_data1.labels_\n",
    "import plotly.express as px\n",
    "fig = px.scatter_3d(df_data1_predicted, x='X1', y='X2', z='X3',color='Class')\n",
    "fig.show()"
   ]
  },
  {
   "cell_type": "code",
   "execution_count": 144,
   "id": "5cdb534a",
   "metadata": {},
   "outputs": [
    {
     "data": {
      "text/plain": [
       "array([[32,  0,  0,  0,  0,  0,  0],\n",
       "       [ 0, 30,  0,  0,  0,  0,  0],\n",
       "       [ 0,  0,  0, 30,  0,  0,  0],\n",
       "       [ 0,  0, 30,  0,  0,  0,  0],\n",
       "       [ 0,  0,  0,  0,  0, 30,  0],\n",
       "       [ 0,  0,  0,  0,  0,  0, 30],\n",
       "       [ 0,  0,  0,  0, 30,  0,  0]], dtype=int64)"
      ]
     },
     "execution_count": 144,
     "metadata": {},
     "output_type": "execute_result"
    }
   ],
   "source": [
    "metrics.cluster.contingency_matrix(df_data1.iloc[:,3], model_data1.labels_)"
   ]
  },
  {
   "cell_type": "code",
   "execution_count": null,
   "id": "7ee597e3",
   "metadata": {},
   "outputs": [],
   "source": []
  },
  {
   "cell_type": "code",
   "execution_count": null,
   "id": "6466e242",
   "metadata": {},
   "outputs": [],
   "source": []
  }
 ],
 "metadata": {
  "kernelspec": {
   "display_name": "Python 3 (ipykernel)",
   "language": "python",
   "name": "python3"
  },
  "language_info": {
   "codemirror_mode": {
    "name": "ipython",
    "version": 3
   },
   "file_extension": ".py",
   "mimetype": "text/x-python",
   "name": "python",
   "nbconvert_exporter": "python",
   "pygments_lexer": "ipython3",
   "version": "3.9.12"
  }
 },
 "nbformat": 4,
 "nbformat_minor": 5
}
