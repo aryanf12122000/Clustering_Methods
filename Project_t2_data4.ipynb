{
 "cells": [
  {
   "cell_type": "code",
   "execution_count": 1,
   "id": "2e36c1b9",
   "metadata": {},
   "outputs": [],
   "source": [
    "import pandas as pd"
   ]
  },
  {
   "cell_type": "code",
   "execution_count": 12,
   "id": "ce787013",
   "metadata": {},
   "outputs": [
    {
     "data": {
      "text/html": [
       "<div>\n",
       "<style scoped>\n",
       "    .dataframe tbody tr th:only-of-type {\n",
       "        vertical-align: middle;\n",
       "    }\n",
       "\n",
       "    .dataframe tbody tr th {\n",
       "        vertical-align: top;\n",
       "    }\n",
       "\n",
       "    .dataframe thead th {\n",
       "        text-align: right;\n",
       "    }\n",
       "</style>\n",
       "<table border=\"1\" class=\"dataframe\">\n",
       "  <thead>\n",
       "    <tr style=\"text-align: right;\">\n",
       "      <th></th>\n",
       "      <th>X1</th>\n",
       "      <th>X2</th>\n",
       "      <th>X3</th>\n",
       "      <th>Class</th>\n",
       "    </tr>\n",
       "  </thead>\n",
       "  <tbody>\n",
       "    <tr>\n",
       "      <th>0</th>\n",
       "      <td>-0.45300</td>\n",
       "      <td>-0.8910</td>\n",
       "      <td>0.02300</td>\n",
       "      <td>0</td>\n",
       "    </tr>\n",
       "    <tr>\n",
       "      <th>1</th>\n",
       "      <td>0.65300</td>\n",
       "      <td>-0.8460</td>\n",
       "      <td>0.02110</td>\n",
       "      <td>0</td>\n",
       "    </tr>\n",
       "    <tr>\n",
       "      <th>2</th>\n",
       "      <td>0.39800</td>\n",
       "      <td>0.9130</td>\n",
       "      <td>-0.00139</td>\n",
       "      <td>0</td>\n",
       "    </tr>\n",
       "    <tr>\n",
       "      <th>3</th>\n",
       "      <td>0.09520</td>\n",
       "      <td>1.0500</td>\n",
       "      <td>0.00628</td>\n",
       "      <td>0</td>\n",
       "    </tr>\n",
       "    <tr>\n",
       "      <th>4</th>\n",
       "      <td>0.52400</td>\n",
       "      <td>-0.9410</td>\n",
       "      <td>0.03780</td>\n",
       "      <td>0</td>\n",
       "    </tr>\n",
       "    <tr>\n",
       "      <th>...</th>\n",
       "      <td>...</td>\n",
       "      <td>...</td>\n",
       "      <td>...</td>\n",
       "      <td>...</td>\n",
       "    </tr>\n",
       "    <tr>\n",
       "      <th>995</th>\n",
       "      <td>0.01520</td>\n",
       "      <td>0.0531</td>\n",
       "      <td>-0.36100</td>\n",
       "      <td>1</td>\n",
       "    </tr>\n",
       "    <tr>\n",
       "      <th>996</th>\n",
       "      <td>0.05160</td>\n",
       "      <td>0.6910</td>\n",
       "      <td>0.87500</td>\n",
       "      <td>1</td>\n",
       "    </tr>\n",
       "    <tr>\n",
       "      <th>997</th>\n",
       "      <td>-0.00511</td>\n",
       "      <td>1.3900</td>\n",
       "      <td>-0.94700</td>\n",
       "      <td>1</td>\n",
       "    </tr>\n",
       "    <tr>\n",
       "      <th>998</th>\n",
       "      <td>-0.06710</td>\n",
       "      <td>0.7140</td>\n",
       "      <td>0.88100</td>\n",
       "      <td>1</td>\n",
       "    </tr>\n",
       "    <tr>\n",
       "      <th>999</th>\n",
       "      <td>-0.05770</td>\n",
       "      <td>0.4280</td>\n",
       "      <td>-0.73000</td>\n",
       "      <td>1</td>\n",
       "    </tr>\n",
       "  </tbody>\n",
       "</table>\n",
       "<p>1000 rows × 4 columns</p>\n",
       "</div>"
      ],
      "text/plain": [
       "          X1      X2       X3  Class\n",
       "0   -0.45300 -0.8910  0.02300      0\n",
       "1    0.65300 -0.8460  0.02110      0\n",
       "2    0.39800  0.9130 -0.00139      0\n",
       "3    0.09520  1.0500  0.00628      0\n",
       "4    0.52400 -0.9410  0.03780      0\n",
       "..       ...     ...      ...    ...\n",
       "995  0.01520  0.0531 -0.36100      1\n",
       "996  0.05160  0.6910  0.87500      1\n",
       "997 -0.00511  1.3900 -0.94700      1\n",
       "998 -0.06710  0.7140  0.88100      1\n",
       "999 -0.05770  0.4280 -0.73000      1\n",
       "\n",
       "[1000 rows x 4 columns]"
      ]
     },
     "execution_count": 12,
     "metadata": {},
     "output_type": "execute_result"
    }
   ],
   "source": [
    "df_data4 = pd.read_csv('Data4.csv')\n",
    "df_data4.drop(columns=df_data4.columns[0],axis=1,inplace=True)\n",
    "df_data4.loc[df_data4['Class']==1,'Class']=0\n",
    "df_data4.loc[df_data4['Class']==2,'Class']=1\n",
    "df_data4"
   ]
  },
  {
   "cell_type": "code",
   "execution_count": 13,
   "id": "b442934e",
   "metadata": {},
   "outputs": [
    {
     "name": "stderr",
     "output_type": "stream",
     "text": [
      "C:\\Users\\aryan\\anaconda3\\lib\\site-packages\\sklearn\\cluster\\_kmeans.py:1036: UserWarning: KMeans is known to have a memory leak on Windows with MKL, when there are less chunks than available threads. You can avoid it by setting the environment variable OMP_NUM_THREADS=4.\n",
      "  warnings.warn(\n"
     ]
    },
    {
     "name": "stdout",
     "output_type": "stream",
     "text": [
      "SSE model_data3 Data: 1245.9263590295157\n",
      "SSE model_data3 Data: 719.3443269685364\n",
      "SSE model_data3 Data: 571.2023585213714\n",
      "SSE model_data3 Data: 436.7936927880706\n",
      "SSE model_data3 Data: 339.27281044381937\n",
      "SSE model_data3 Data: 272.0867061791389\n",
      "SSE model_data3 Data: 213.75988304405735\n",
      "SSE model_data3 Data: 166.6169305519738\n",
      "SSE model_data3 Data: 141.40623753347955\n"
     ]
    }
   ],
   "source": [
    "#elbow method\n",
    "# finding the value of k\n",
    "from sklearn.cluster import KMeans\n",
    "ans = []\n",
    "for i in range(1,10):\n",
    "    model_data4 = KMeans(n_clusters=i)\n",
    "    model_data4.fit(df_data4.iloc[:,0:3])\n",
    "    print('SSE model_data3 Data: '+ str(model_data4.inertia_))\n",
    "    t = model_data4.inertia_\n",
    "    ans.append(t)"
   ]
  },
  {
   "cell_type": "code",
   "execution_count": 14,
   "id": "84cc26cf",
   "metadata": {},
   "outputs": [
    {
     "name": "stderr",
     "output_type": "stream",
     "text": [
      "C:\\Users\\aryan\\anaconda3\\lib\\site-packages\\seaborn\\_decorators.py:36: FutureWarning: Pass the following variables as keyword args: x, y. From version 0.12, the only valid positional argument will be `data`, and passing other arguments without an explicit keyword will result in an error or misinterpretation.\n",
      "  warnings.warn(\n"
     ]
    },
    {
     "data": {
      "text/plain": [
       "<AxesSubplot:>"
      ]
     },
     "execution_count": 14,
     "metadata": {},
     "output_type": "execute_result"
    },
    {
     "data": {
      "image/png": "[encoded data removed]",
      "text/plain": [
       "<Figure size 432x288 with 1 Axes>"
      ]
     },
     "metadata": {
      "needs_background": "light"
     },
     "output_type": "display_data"
    }
   ],
   "source": [
    "import seaborn as sns\n",
    "sns.lineplot(ans,range(1,10))"
   ]
  },
  {
   "cell_type": "code",
   "execution_count": 15,
   "id": "c43f3ba9",
   "metadata": {},
   "outputs": [
    {
     "name": "stdout",
     "output_type": "stream",
     "text": [
      "SHScore Data2: 2:0.35730946464884406\n",
      "SHScore Data2: 3:0.3360945733371344\n",
      "SHScore Data2: 4:0.3489417332034447\n",
      "SHScore Data2: 5:0.3990533113688891\n",
      "SHScore Data2: 6:0.39902836956737836\n",
      "SHScore Data2: 7:0.46100242661395135\n",
      "SHScore Data2: 8:0.5157932761450182\n",
      "SHScore Data2: 9:0.5131916637031886\n"
     ]
    }
   ],
   "source": [
    "from sklearn import metrics\n",
    "for i in range(2,10):\n",
    "    model_data4 = KMeans(n_clusters=i)\n",
    "    model_data4.fit(df_data4.iloc[:,0:3])\n",
    "    print('SHScore Data2: '+str(i)+':'+ str(metrics.silhouette_score(df_data4.iloc[:,0:3], model_data4.labels_)))"
   ]
  },
  {
   "cell_type": "code",
   "execution_count": 23,
   "id": "acd5bc4a",
   "metadata": {},
   "outputs": [
    {
     "name": "stdout",
     "output_type": "stream",
     "text": [
      "SSE model_data1 Data: 719.3443269685364\n"
     ]
    }
   ],
   "source": [
    "# for time being going with 2\n",
    "model_data4 = KMeans(n_clusters=2)\n",
    "model_data4.fit(df_data4.iloc[:,0:3])\n",
    "print('SSE model_data1 Data: '+ str(model_data4.inertia_))"
   ]
  },
  {
   "cell_type": "code",
   "execution_count": 24,
   "id": "1576a27c",
   "metadata": {},
   "outputs": [
    {
     "data": {
      "text/plain": [
       "array([[327, 173],\n",
       "       [174, 326]], dtype=int64)"
      ]
     },
     "execution_count": 24,
     "metadata": {},
     "output_type": "execute_result"
    }
   ],
   "source": [
    "metrics.cluster.contingency_matrix(df_data4.iloc[:,3], model_data4.labels_)"
   ]
  },
  {
   "cell_type": "code",
   "execution_count": 25,
   "id": "787070f0",
   "metadata": {},
   "outputs": [
    {
     "data": {
      "text/plain": [
       "0.09272782327563998"
      ]
     },
     "execution_count": 25,
     "metadata": {},
     "output_type": "execute_result"
    }
   ],
   "source": [
    "metrics.adjusted_rand_score(df_data4.iloc[:,3], model_data4.labels_)"
   ]
  },
  {
   "cell_type": "code",
   "execution_count": 26,
   "id": "074e6057",
   "metadata": {},
   "outputs": [
    {
     "name": "stdout",
     "output_type": "stream",
     "text": [
      "[0 0 1 1 0 1 1 0 0 0 0 0 1 1 0 1 0 1 1 0 0 0 1 0 0 1 0 1 0 0 0 1 0 0 1 1 1\n",
      " 0 1 0 1 1 0 0 1 1 0 0 1 0 0 0 0 0 0 0 0 0 1 0 0 1 1 1 0 0 0 1 1 0 1 1 0 0\n",
      " 1 1 1 1 0 1 1 0 0 0 0 0 0 1 0 0 0 1 1 0 1 1 0 0 0 0 0 1 1 0 0 1 1 0 1 0 1\n",
      " 0 0 0 1 1 0 0 0 1 1 0 0 0 1 0 0 0 0 1 0 0 0 0 0 0 1 0 0 0 1 1 0 0 1 0 0 1\n",
      " 0 0 1 0 0 0 0 1 0 1 0 0 1 0 1 0 0 0 1 0 0 1 0 0 0 1 1 0 0 0 0 0 0 0 0 0 1\n",
      " 0 0 0 0 0 0 0 1 0 1 0 0 0 1 0 0 0 1 1 0 1 1 1 0 0 0 0 0 0 1 0 0 0 1 1 0 0\n",
      " 1 1 0 0 0 0 0 0 1 0 0 0 0 0 1 0 1 0 0 1 0 1 0 0 1 1 1 0 0 1 0 1 1 0 1 0 0\n",
      " 1 0 0 0 0 0 0 0 1 1 0 0 1 1 0 0 1 0 1 1 0 0 1 1 1 1 0 1 0 1 0 0 0 0 1 0 0\n",
      " 0 1 0 1 0 0 1 0 1 0 0 0 0 0 1 0 0 0 1 1 0 0 0 1 0 0 0 0 1 1 1 1 0 0 1 1 0\n",
      " 1 1 0 0 1 1 0 0 0 0 0 0 0 1 1 1 0 1 1 0 0 1 0 0 1 1 0 0 0 1 1 1 0 0 0 0 0\n",
      " 0 0 0 0 0 0 0 0 1 0 1 0 1 1 1 1 0 0 0 0 1 0 0 0 0 0 1 0 1 0 0 1 1 1 0 0 1\n",
      " 0 0 0 0 1 1 0 1 0 0 0 0 0 1 1 0 0 1 0 1 0 0 1 1 0 0 0 0 0 0 0 0 0 0 0 0 0\n",
      " 0 1 0 1 0 0 0 0 1 0 0 0 0 0 1 0 0 0 1 0 0 0 0 1 0 1 0 0 0 0 0 0 0 1 1 0 0\n",
      " 1 1 1 0 0 1 0 0 1 0 0 0 0 0 0 0 0 0 0 0 0 1 1 0 1 1 1 1 0 1 1 1 1 1 1 1 1\n",
      " 1 1 0 0 1 1 0 1 1 1 0 0 1 1 1 0 1 1 1 0 1 0 1 1 0 0 1 1 0 0 1 0 0 0 0 0 0\n",
      " 0 0 1 1 1 1 1 1 1 1 1 1 1 1 0 1 1 1 0 1 1 1 1 1 1 1 1 0 0 0 0 0 1 1 1 0 1\n",
      " 1 0 1 1 1 1 0 1 0 1 1 1 1 1 1 1 1 1 1 1 0 1 1 1 0 0 0 1 1 1 1 1 1 0 1 1 0\n",
      " 1 0 1 0 1 0 0 1 1 1 0 1 1 0 1 1 1 1 1 1 0 1 1 1 0 1 1 1 1 1 0 1 1 1 1 0 1\n",
      " 1 0 0 1 0 1 1 1 1 1 0 1 0 0 0 1 1 0 1 0 1 1 1 0 0 1 1 1 1 1 0 1 1 0 0 1 1\n",
      " 1 0 1 1 1 1 0 1 0 0 0 1 0 1 1 1 1 0 1 1 1 1 1 0 0 1 0 1 0 0 0 0 1 1 0 1 0\n",
      " 0 1 1 1 1 0 1 1 1 0 0 1 1 1 1 0 1 1 1 1 1 0 1 0 1 0 1 1 1 0 1 1 1 1 0 1 1\n",
      " 1 1 1 0 1 1 1 1 1 1 1 1 0 0 0 1 1 1 1 1 1 1 1 1 1 1 0 1 1 0 0 0 0 1 0 0 0\n",
      " 1 1 0 0 0 1 0 0 0 1 1 1 1 1 1 0 1 1 0 1 1 1 0 1 1 1 1 1 0 1 0 1 1 1 1 0 1\n",
      " 1 1 1 1 0 1 1 1 1 0 0 1 1 1 0 0 0 0 0 0 1 0 0 0 1 1 0 1 0 1 0 1 1 1 1 0 0\n",
      " 0 0 1 1 1 0 1 0 1 0 1 0 0 1 1 1 0 0 1 1 1 1 1 1 1 0 1 1 0 1 1 0 1 1 0 1 1\n",
      " 1 1 0 1 1 1 0 1 1 1 1 1 0 0 1 0 0 1 1 1 1 0 1 0 0 0 1 1 0 1 0 0 0 1 0 0 1\n",
      " 1 1 0 0 0 1 0 1 1 0 0 0 1 1 1 1 1 0 1 1 1 1 0 1 1 0 1 1 0 1 1 0 1 0 1 1 1\n",
      " 1]\n"
     ]
    }
   ],
   "source": [
    "print(model_data4.labels_)"
   ]
  },
  {
   "cell_type": "code",
   "execution_count": 20,
   "id": "3030c13d",
   "metadata": {},
   "outputs": [
    {
     "name": "stdout",
     "output_type": "stream",
     "text": [
      "SSE model_data1 Data: 166.69756520388964\n"
     ]
    }
   ],
   "source": [
    "#for shioutte\n",
    "model_data4 = KMeans(n_clusters=8)\n",
    "model_data4.fit(df_data4.iloc[:,0:3])\n",
    "print('SSE model_data1 Data: '+ str(model_data4.inertia_))"
   ]
  },
  {
   "cell_type": "code",
   "execution_count": 21,
   "id": "97771b0f",
   "metadata": {},
   "outputs": [
    {
     "data": {
      "text/plain": [
       "0.2524773573584154"
      ]
     },
     "execution_count": 21,
     "metadata": {},
     "output_type": "execute_result"
    }
   ],
   "source": [
    "metrics.adjusted_rand_score(df_data4.iloc[:,3], model_data4.labels_)"
   ]
  },
  {
   "cell_type": "code",
   "execution_count": 22,
   "id": "9033ec21",
   "metadata": {},
   "outputs": [
    {
     "name": "stdout",
     "output_type": "stream",
     "text": [
      "[3 0 5 7 0 7 5 3 3 3 5 3 7 5 0 5 3 5 5 3 0 3 7 3 0 5 0 7 3 0 5 5 5 0 5 5 7\n",
      " 3 7 0 7 7 3 3 7 7 3 3 5 3 0 0 3 0 0 0 0 0 5 3 3 7 5 5 3 3 3 7 7 0 5 5 3 0\n",
      " 7 7 7 5 3 7 5 5 0 0 0 3 0 7 3 0 0 7 5 0 5 7 3 0 3 5 0 7 5 5 3 5 5 0 7 5 7\n",
      " 7 3 0 5 7 0 3 0 7 7 5 0 5 7 0 3 3 0 7 0 3 0 5 0 0 7 5 3 0 7 7 3 0 5 0 5 7\n",
      " 0 3 5 0 5 0 5 7 0 7 3 0 5 0 7 3 0 3 5 3 0 5 3 5 5 7 7 3 3 0 0 3 0 3 0 0 7\n",
      " 0 3 5 3 0 3 3 7 3 5 5 0 3 5 3 0 3 5 7 0 5 7 5 5 3 3 3 3 0 7 0 3 3 5 5 0 0\n",
      " 5 7 3 3 0 0 3 3 7 0 3 0 3 3 7 0 5 0 0 5 3 5 5 3 7 7 7 0 0 7 5 7 7 0 5 0 3\n",
      " 7 3 0 3 0 0 3 3 7 7 3 5 5 7 5 3 7 3 7 5 3 0 7 7 5 7 3 5 3 5 0 0 0 3 5 5 5\n",
      " 3 7 5 5 3 3 7 0 5 5 0 3 0 3 5 0 0 3 7 7 0 0 0 5 0 0 0 5 5 5 7 5 0 3 7 7 3\n",
      " 7 7 0 0 7 7 3 7 3 0 0 3 7 5 5 7 0 7 5 3 3 5 3 0 7 5 5 3 0 7 7 7 3 0 0 0 3\n",
      " 0 0 0 0 0 5 3 0 7 0 5 0 7 7 7 7 0 0 3 3 7 0 3 0 0 3 7 3 7 3 3 7 5 7 0 0 5\n",
      " 5 5 7 3 7 7 0 7 0 3 3 3 3 5 7 3 3 7 3 5 3 3 5 7 0 3 5 5 0 5 3 0 3 3 3 3 5\n",
      " 5 7 0 5 0 3 0 3 7 0 0 3 3 0 5 3 0 3 7 3 0 0 0 5 3 7 0 0 0 3 7 3 5 7 7 0 3\n",
      " 7 5 7 0 3 5 0 3 7 0 7 3 0 5 3 0 7 0 3 2 6 1 4 6 4 1 2 2 2 1 2 4 1 6 1 2 1\n",
      " 1 2 6 2 4 2 6 1 6 4 2 6 1 1 1 2 1 1 4 2 4 6 4 4 2 2 4 4 2 2 1 2 6 6 2 2 6\n",
      " 6 6 6 1 2 2 4 1 1 2 2 2 4 4 6 1 1 2 6 4 4 4 1 2 4 1 1 6 6 6 2 6 4 2 6 6 4\n",
      " 1 6 1 4 2 6 2 1 6 4 1 1 2 1 1 6 4 1 4 4 2 6 1 4 6 2 6 4 4 1 6 1 4 6 2 2 6\n",
      " 4 6 2 2 1 6 6 4 1 2 6 4 4 2 6 1 6 1 4 6 2 1 6 1 6 1 1 6 4 2 6 1 6 4 2 6 2\n",
      " 1 2 6 1 2 1 1 4 4 2 2 6 6 2 6 2 6 6 4 6 2 1 2 6 2 2 4 2 1 1 2 2 1 2 6 2 1\n",
      " 4 6 1 4 1 1 2 2 2 2 6 4 6 4 2 1 1 6 6 1 4 2 2 6 6 2 2 4 6 2 6 2 2 4 6 1 6\n",
      " 6 1 2 1 1 2 4 4 4 6 6 4 1 4 4 6 1 6 2 4 4 6 2 6 6 2 2 4 4 2 1 1 4 1 2 4 2\n",
      " 4 1 2 6 4 4 1 4 2 1 2 1 6 6 6 2 1 1 1 2 4 1 1 2 2 4 6 1 1 2 2 6 2 1 6 6 2\n",
      " 4 4 2 6 6 1 6 6 6 1 1 1 4 1 6 2 4 1 2 4 4 6 6 4 4 2 4 2 6 6 2 4 1 1 4 6 4\n",
      " 1 2 2 1 2 6 4 1 1 2 6 4 4 4 2 6 6 6 2 6 6 6 6 6 1 2 6 4 6 1 6 4 4 4 4 6 6\n",
      " 2 2 4 6 2 6 6 2 4 2 4 2 2 4 1 4 6 6 1 6 1 4 2 4 4 2 4 6 2 2 2 2 1 4 2 2 4\n",
      " 2 1 2 2 1 4 6 2 1 1 6 1 2 6 2 2 2 2 1 1 4 6 1 6 2 6 2 4 6 6 2 2 6 1 2 6 2\n",
      " 4 2 6 6 6 1 2 4 6 6 6 2 4 2 1 4 4 6 2 4 1 4 6 2 1 6 2 4 6 4 2 6 1 2 6 4 6\n",
      " 2]\n"
     ]
    }
   ],
   "source": [
    "print(model_data4.labels_)"
   ]
  },
  {
   "cell_type": "code",
   "execution_count": 31,
   "id": "d2b9e20d",
   "metadata": {},
   "outputs": [],
   "source": [
    "## checking with dbscan\n",
    "from sklearn.cluster import DBSCAN\n",
    "clusters = DBSCAN(eps=500, min_samples=100).fit(df_data4)"
   ]
  },
  {
   "cell_type": "code",
   "execution_count": 32,
   "id": "fea3531a",
   "metadata": {},
   "outputs": [
    {
     "name": "stdout",
     "output_type": "stream",
     "text": [
      "[0 0 0 0 0 0 0 0 0 0 0 0 0 0 0 0 0 0 0 0 0 0 0 0 0 0 0 0 0 0 0 0 0 0 0 0 0\n",
      " 0 0 0 0 0 0 0 0 0 0 0 0 0 0 0 0 0 0 0 0 0 0 0 0 0 0 0 0 0 0 0 0 0 0 0 0 0\n",
      " 0 0 0 0 0 0 0 0 0 0 0 0 0 0 0 0 0 0 0 0 0 0 0 0 0 0 0 0 0 0 0 0 0 0 0 0 0\n",
      " 0 0 0 0 0 0 0 0 0 0 0 0 0 0 0 0 0 0 0 0 0 0 0 0 0 0 0 0 0 0 0 0 0 0 0 0 0\n",
      " 0 0 0 0 0 0 0 0 0 0 0 0 0 0 0 0 0 0 0 0 0 0 0 0 0 0 0 0 0 0 0 0 0 0 0 0 0\n",
      " 0 0 0 0 0 0 0 0 0 0 0 0 0 0 0 0 0 0 0 0 0 0 0 0 0 0 0 0 0 0 0 0 0 0 0 0 0\n",
      " 0 0 0 0 0 0 0 0 0 0 0 0 0 0 0 0 0 0 0 0 0 0 0 0 0 0 0 0 0 0 0 0 0 0 0 0 0\n",
      " 0 0 0 0 0 0 0 0 0 0 0 0 0 0 0 0 0 0 0 0 0 0 0 0 0 0 0 0 0 0 0 0 0 0 0 0 0\n",
      " 0 0 0 0 0 0 0 0 0 0 0 0 0 0 0 0 0 0 0 0 0 0 0 0 0 0 0 0 0 0 0 0 0 0 0 0 0\n",
      " 0 0 0 0 0 0 0 0 0 0 0 0 0 0 0 0 0 0 0 0 0 0 0 0 0 0 0 0 0 0 0 0 0 0 0 0 0\n",
      " 0 0 0 0 0 0 0 0 0 0 0 0 0 0 0 0 0 0 0 0 0 0 0 0 0 0 0 0 0 0 0 0 0 0 0 0 0\n",
      " 0 0 0 0 0 0 0 0 0 0 0 0 0 0 0 0 0 0 0 0 0 0 0 0 0 0 0 0 0 0 0 0 0 0 0 0 0\n",
      " 0 0 0 0 0 0 0 0 0 0 0 0 0 0 0 0 0 0 0 0 0 0 0 0 0 0 0 0 0 0 0 0 0 0 0 0 0\n",
      " 0 0 0 0 0 0 0 0 0 0 0 0 0 0 0 0 0 0 0 0 0 0 0 0 0 0 0 0 0 0 0 0 0 0 0 0 0\n",
      " 0 0 0 0 0 0 0 0 0 0 0 0 0 0 0 0 0 0 0 0 0 0 0 0 0 0 0 0 0 0 0 0 0 0 0 0 0\n",
      " 0 0 0 0 0 0 0 0 0 0 0 0 0 0 0 0 0 0 0 0 0 0 0 0 0 0 0 0 0 0 0 0 0 0 0 0 0\n",
      " 0 0 0 0 0 0 0 0 0 0 0 0 0 0 0 0 0 0 0 0 0 0 0 0 0 0 0 0 0 0 0 0 0 0 0 0 0\n",
      " 0 0 0 0 0 0 0 0 0 0 0 0 0 0 0 0 0 0 0 0 0 0 0 0 0 0 0 0 0 0 0 0 0 0 0 0 0\n",
      " 0 0 0 0 0 0 0 0 0 0 0 0 0 0 0 0 0 0 0 0 0 0 0 0 0 0 0 0 0 0 0 0 0 0 0 0 0\n",
      " 0 0 0 0 0 0 0 0 0 0 0 0 0 0 0 0 0 0 0 0 0 0 0 0 0 0 0 0 0 0 0 0 0 0 0 0 0\n",
      " 0 0 0 0 0 0 0 0 0 0 0 0 0 0 0 0 0 0 0 0 0 0 0 0 0 0 0 0 0 0 0 0 0 0 0 0 0\n",
      " 0 0 0 0 0 0 0 0 0 0 0 0 0 0 0 0 0 0 0 0 0 0 0 0 0 0 0 0 0 0 0 0 0 0 0 0 0\n",
      " 0 0 0 0 0 0 0 0 0 0 0 0 0 0 0 0 0 0 0 0 0 0 0 0 0 0 0 0 0 0 0 0 0 0 0 0 0\n",
      " 0 0 0 0 0 0 0 0 0 0 0 0 0 0 0 0 0 0 0 0 0 0 0 0 0 0 0 0 0 0 0 0 0 0 0 0 0\n",
      " 0 0 0 0 0 0 0 0 0 0 0 0 0 0 0 0 0 0 0 0 0 0 0 0 0 0 0 0 0 0 0 0 0 0 0 0 0\n",
      " 0 0 0 0 0 0 0 0 0 0 0 0 0 0 0 0 0 0 0 0 0 0 0 0 0 0 0 0 0 0 0 0 0 0 0 0 0\n",
      " 0 0 0 0 0 0 0 0 0 0 0 0 0 0 0 0 0 0 0 0 0 0 0 0 0 0 0 0 0 0 0 0 0 0 0 0 0\n",
      " 0]\n"
     ]
    }
   ],
   "source": [
    "print(clusters.labels_)"
   ]
  },
  {
   "cell_type": "code",
   "execution_count": null,
   "id": "74bf3a8a",
   "metadata": {},
   "outputs": [],
   "source": []
  }
 ],
 "metadata": {
  "kernelspec": {
   "display_name": "Python 3 (ipykernel)",
   "language": "python",
   "name": "python3"
  },
  "language_info": {
   "codemirror_mode": {
    "name": "ipython",
    "version": 3
   },
   "file_extension": ".py",
   "mimetype": "text/x-python",
   "name": "python",
   "nbconvert_exporter": "python",
   "pygments_lexer": "ipython3",
   "version": "3.9.12"
  }
 },
 "nbformat": 4,
 "nbformat_minor": 5
}
